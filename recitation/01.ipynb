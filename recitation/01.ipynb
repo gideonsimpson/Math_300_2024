{
 "cells": [
  {
   "cell_type": "markdown",
   "metadata": {},
   "source": [
    "# MATH 300: Numerical Analysis I Recitation\n",
    "\n",
    "## Instructor: Hunter Wages\n",
    "\n",
    "## Meeting Time/Place: F 1100-1150AM for 001, 1200-12:50pm for 002, GL 47\n"
   ]
  },
  {
   "cell_type": "markdown",
   "metadata": {},
   "source": [
    "Download & Set Up Julia/VS Code\n",
    "\n",
    "Julia: https://julialang.org/downloads/\n",
    "VS Code: https://code.visualstudio.com/Download\n",
    "\n",
    "Install Julia VS Code extension\n",
    "\n",
    "REPL Intro - View -> Command Palate -> Start Julia REPL. The REPL is where you can\n",
    "download new packages and stuff.\n",
    "\n",
    "Jupyter notebooks:\n",
    "\n",
    "To create a jupyter notebook file, you can hit \"file\" -> \"new file\" -> then name your file\n",
    "anything with a .ipynb ending and you will get a jupyter notebook file.\n",
    "\n",
    "This allows you to have \"Markdown\" and \"Code\" blocks which you can add by hitting the\n",
    "\"+ Markdown\" or \"+ Code\" buttons near the top of your window right now. Markdown\n",
    "chunks are what I am typing in right now. These will allow you to write explanations or do\n",
    "\"by-hand\" homework problems. You can do fancy math stuff like $2 + 2 = 4$. Do dollar\n",
    "signs enclosing the math you want to type. You use LaTeX commands in between the\n",
    "dollar signs like  $\\beta$ or\n",
    "\n",
    "$$ \\sum_{i=1}^N \\frac{1}{i}$$"
   ]
  },
  {
   "cell_type": "markdown",
   "metadata": {},
   "source": [
    "This was how you built the Julia kernal. You typed this into the REPL and did it. You\n",
    "probably don't ever need to do it again, but this is how you did it:"
   ]
  },
  {
   "cell_type": "code",
   "execution_count": 1,
   "metadata": {},
   "outputs": [
    {
     "name": "stderr",
     "output_type": "stream",
     "text": [
      "\u001b[32m\u001b[1m    Updating\u001b[22m\u001b[39m registry at `~/.julia/registries/General.toml`\n",
      "\u001b[32m\u001b[1m   Resolving\u001b[22m\u001b[39m package versions...\n",
      "\u001b[32m\u001b[1m  No Changes\u001b[22m\u001b[39m to `~/.julia/environments/v1.8/Project.toml`\n",
      "\u001b[32m\u001b[1m  No Changes\u001b[22m\u001b[39m to `~/.julia/environments/v1.8/Manifest.toml`\n",
      "\u001b[32m\u001b[1m    Building\u001b[22m\u001b[39m Conda ─→ `~/.julia/scratchspaces/44cfe95a-1eb2-52ea-b672-e2afdf69b78f/b19db3927f0db4151cb86d073689f2428e524576/build.log`\n",
      "\u001b[32m\u001b[1m    Building\u001b[22m\u001b[39m IJulia → `~/.julia/scratchspaces/44cfe95a-1eb2-52ea-b672-e2afdf69b78f/1702f79fa30f56b68d5b2fd6fb3a9a14ff6f9130/build.log`\n"
     ]
    }
   ],
   "source": [
    "using Pkg; Pkg.add(\"IJulia\")\n",
    "Pkg.build(\"IJulia\")"
   ]
  },
  {
   "cell_type": "markdown",
   "metadata": {},
   "source": [
    "Now for some basic Julia programming:\n",
    "\n",
    "If you try to use a package that does not exist on your machine (e.g., you spelled the name incorrectly **or** you have not installed it yet), you will get an error: "
   ]
  },
  {
   "cell_type": "code",
   "execution_count": null,
   "metadata": {},
   "outputs": [],
   "source": [
    "using SomePackage"
   ]
  },
  {
   "cell_type": "markdown",
   "metadata": {},
   "source": [
    "You can try installing the package from the REPL using `] add SomePackage` or by using the Pkg package (which will not need to be added, as it comes with Julia already).\n",
    "\n",
    "Some basic data types that any programming language has:"
   ]
  },
  {
   "cell_type": "code",
   "execution_count": 3,
   "metadata": {},
   "outputs": [
    {
     "data": {
      "text/plain": [
       "1.0"
      ]
     },
     "metadata": {},
     "output_type": "display_data"
    }
   ],
   "source": [
    "name = \"Hunter is Posting this way later than he told us he was going to.\"\n",
    "integer = 10 # Integer number\n",
    "float = 2.7 # Floating Point number\n",
    "integer_as_float = 1. # Integer value, stored as floating point (useful for type stability)"
   ]
  },
  {
   "cell_type": "markdown",
   "metadata": {},
   "source": [
    "You can also suppress outputs with a semicolon:"
   ]
  },
  {
   "cell_type": "code",
   "execution_count": 4,
   "metadata": {},
   "outputs": [],
   "source": [
    "variable = 4;"
   ]
  },
  {
   "cell_type": "markdown",
   "metadata": {},
   "source": [
    "You can check a variable's type with `typeof`"
   ]
  },
  {
   "cell_type": "code",
   "execution_count": 5,
   "metadata": {},
   "outputs": [
    {
     "data": {
      "text/plain": [
       "Float64"
      ]
     },
     "metadata": {},
     "output_type": "display_data"
    }
   ],
   "source": [
    "typeof(integer_as_float)"
   ]
  },
  {
   "cell_type": "markdown",
   "metadata": {},
   "source": [
    "Printing can be done with the `println` command:"
   ]
  },
  {
   "cell_type": "code",
   "execution_count": 6,
   "metadata": {},
   "outputs": [
    {
     "name": "stdout",
     "output_type": "stream",
     "text": [
      "Hunter is Posting this way later than he told us he was going to.\n",
      "2.7\n"
     ]
    }
   ],
   "source": [
    "println(name)\n",
    "println(float)"
   ]
  },
  {
   "cell_type": "markdown",
   "metadata": {},
   "source": [
    "You can also use the macro '@show' to show full lines of inputs, with their outputs"
   ]
  },
  {
   "cell_type": "code",
   "execution_count": 7,
   "metadata": {},
   "outputs": [
    {
     "name": "stdout",
     "output_type": "stream",
     "text": [
      "2 + 2 = 4\n"
     ]
    }
   ],
   "source": [
    "@show 2 + 2;"
   ]
  },
  {
   "cell_type": "markdown",
   "metadata": {},
   "source": [
    "It's straightforward to define a function (very MATLAB-esque)"
   ]
  },
  {
   "cell_type": "code",
   "execution_count": 8,
   "metadata": {},
   "outputs": [
    {
     "data": {
      "text/plain": [
       "function_name (generic function with 1 method)"
      ]
     },
     "metadata": {},
     "output_type": "display_data"
    }
   ],
   "source": [
    "function function_name(input)\n",
    "    # Do stuff to shift input to output\n",
    "    output = input\n",
    "    return output\n",
    "end"
   ]
  },
  {
   "cell_type": "markdown",
   "metadata": {},
   "source": [
    "You can also write inline functions (helpful for mathematical functions like $f(x) = x^2$):"
   ]
  },
  {
   "cell_type": "code",
   "execution_count": 9,
   "metadata": {},
   "outputs": [
    {
     "data": {
      "text/plain": [
       "16"
      ]
     },
     "metadata": {},
     "output_type": "display_data"
    }
   ],
   "source": [
    "f(x) = x^2\n",
    "f(4)"
   ]
  },
  {
   "cell_type": "markdown",
   "metadata": {},
   "source": [
    "You can also use keyword arguments or defaults in your functions:"
   ]
  },
  {
   "cell_type": "code",
   "execution_count": 10,
   "metadata": {},
   "outputs": [
    {
     "data": {
      "text/plain": [
       "calculate_gravity_force (generic function with 2 methods)"
      ]
     },
     "metadata": {},
     "output_type": "display_data"
    }
   ],
   "source": [
    "function calculate_gravity_force(mass, g = 9.8; return_force = true)\n",
    "    if return_force == true\n",
    "        return mass*g\n",
    "    else\n",
    "        return -1.\n",
    "    end\n",
    "end"
   ]
  },
  {
   "cell_type": "code",
   "execution_count": 11,
   "metadata": {},
   "outputs": [
    {
     "data": {
      "text/plain": [
       "98.0"
      ]
     },
     "metadata": {},
     "output_type": "display_data"
    }
   ],
   "source": [
    "calculate_gravity_force(10)"
   ]
  },
  {
   "cell_type": "code",
   "execution_count": 12,
   "metadata": {},
   "outputs": [
    {
     "data": {
      "text/plain": [
       "16.0"
      ]
     },
     "metadata": {},
     "output_type": "display_data"
    }
   ],
   "source": [
    "calculate_gravity_force(10, 1.6) # calculation for the Moon"
   ]
  },
  {
   "cell_type": "code",
   "execution_count": 13,
   "metadata": {},
   "outputs": [
    {
     "data": {
      "text/plain": [
       "-1.0"
      ]
     },
     "metadata": {},
     "output_type": "display_data"
    }
   ],
   "source": [
    "calculate_gravity_force(10, return_force = false)"
   ]
  },
  {
   "cell_type": "markdown",
   "metadata": {},
   "source": [
    "Vectors and matrices are very common data structures among scientific codes:"
   ]
  },
  {
   "cell_type": "code",
   "execution_count": 14,
   "metadata": {},
   "outputs": [
    {
     "data": {
      "text/plain": [
       "2×2 Matrix{Int64}:\n",
       " 1  2\n",
       " 3  4"
      ]
     },
     "metadata": {},
     "output_type": "display_data"
    }
   ],
   "source": [
    "A = [1 2; 3 4] # You list the rows separated by ;."
   ]
  },
  {
   "cell_type": "code",
   "execution_count": 15,
   "metadata": {},
   "outputs": [
    {
     "data": {
      "text/plain": [
       "1×4 Matrix{Int64}:\n",
       " 1  2  3  4"
      ]
     },
     "metadata": {},
     "output_type": "display_data"
    }
   ],
   "source": [
    "V = [1 2 3 4] # This gives a row vector."
   ]
  },
  {
   "cell_type": "code",
   "execution_count": 16,
   "metadata": {},
   "outputs": [
    {
     "data": {
      "text/plain": [
       "4-element Vector{Int64}:\n",
       " 1\n",
       " 2\n",
       " 3\n",
       " 4"
      ]
     },
     "metadata": {},
     "output_type": "display_data"
    }
   ],
   "source": [
    "VT = [1; 2; 3; 4] # Transpose of V, often we want column vectors. Also, notice that this is a vector, not a matrix!"
   ]
  },
  {
   "cell_type": "code",
   "execution_count": 17,
   "metadata": {},
   "outputs": [
    {
     "data": {
      "text/plain": [
       "4×1 adjoint(::Matrix{Int64}) with eltype Int64:\n",
       " 1\n",
       " 2\n",
       " 3\n",
       " 4"
      ]
     },
     "metadata": {},
     "output_type": "display_data"
    }
   ],
   "source": [
    "V' # We can also take the transpose directly with ', but again notice the type difference!"
   ]
  },
  {
   "cell_type": "markdown",
   "metadata": {},
   "source": [
    "It's important to note that Julia uses 1-based indexing:"
   ]
  },
  {
   "cell_type": "code",
   "execution_count": 18,
   "metadata": {},
   "outputs": [
    {
     "data": {
      "text/plain": [
       "1"
      ]
     },
     "metadata": {},
     "output_type": "display_data"
    }
   ],
   "source": [
    "VT[1]"
   ]
  },
  {
   "cell_type": "markdown",
   "metadata": {},
   "source": [
    "We can also slice matrices to obtain submatrices:"
   ]
  },
  {
   "cell_type": "code",
   "execution_count": 19,
   "metadata": {},
   "outputs": [
    {
     "data": {
      "text/plain": [
       "3×3 Matrix{Int64}:\n",
       " 1  2  3\n",
       " 4  5  6\n",
       " 7  8  9"
      ]
     },
     "metadata": {},
     "output_type": "display_data"
    }
   ],
   "source": [
    "B = [1 2 3; 4 5 6; 7 8 9]"
   ]
  },
  {
   "cell_type": "code",
   "execution_count": 20,
   "metadata": {},
   "outputs": [
    {
     "data": {
      "text/plain": [
       "3-element Vector{Int64}:\n",
       " 3\n",
       " 6\n",
       " 9"
      ]
     },
     "metadata": {},
     "output_type": "display_data"
    }
   ],
   "source": [
    "B[:, 3] # : gives us all the entries from that dimension."
   ]
  },
  {
   "cell_type": "code",
   "execution_count": 21,
   "metadata": {},
   "outputs": [
    {
     "data": {
      "text/plain": [
       "2×2 Matrix{Int64}:\n",
       " 2  3\n",
       " 5  6"
      ]
     },
     "metadata": {},
     "output_type": "display_data"
    }
   ],
   "source": [
    "B[1:2, 2:end] # Notice the use of end here! You can do end-1, end -2, ..."
   ]
  },
  {
   "cell_type": "markdown",
   "metadata": {},
   "source": [
    "Also, Julia is column major, not row major (Python is a row major language): Illustration:"
   ]
  },
  {
   "cell_type": "code",
   "execution_count": 22,
   "metadata": {},
   "outputs": [
    {
     "name": "stdout",
     "output_type": "stream",
     "text": [
      "1 4 7 2 5 8 3 6 9 "
     ]
    }
   ],
   "source": [
    "for i = 1:length(B)\n",
    "    print(\"$(B[i]) \")\n",
    "end"
   ]
  },
  {
   "cell_type": "markdown",
   "metadata": {},
   "source": [
    "Now let's look at some examples of loops and control flow:"
   ]
  },
  {
   "cell_type": "code",
   "execution_count": 23,
   "metadata": {},
   "outputs": [
    {
     "name": "stdout",
     "output_type": "stream",
     "text": [
      "1 2 3 4 5 \n",
      "1 2 3 4 5 \n",
      "k is less than 25.\n"
     ]
    }
   ],
   "source": [
    "for i = 1:5\n",
    "    print(\"$i \")\n",
    "end\n",
    "\n",
    "println() # Line break in output\n",
    "\n",
    "j = 1\n",
    "while j <= 5\n",
    "    print(\"$j \")\n",
    "    j += 1\n",
    "end\n",
    "\n",
    "println()\n",
    "\n",
    "k = 10\n",
    "if k > 50\n",
    "    println(\"k is larger than 50!\")\n",
    "elseif k > 25\n",
    "    println(\"k is greater than 25!\")\n",
    "else\n",
    "    println(\"k is less than 25.\")\n",
    "end"
   ]
  },
  {
   "cell_type": "markdown",
   "metadata": {},
   "source": [
    "Example usage of `continue` and `break`:"
   ]
  },
  {
   "cell_type": "code",
   "execution_count": 24,
   "metadata": {},
   "outputs": [
    {
     "name": "stdout",
     "output_type": "stream",
     "text": [
      "10\n",
      "11\n",
      "12\n",
      "13\n",
      "14\n",
      "15\n",
      "16\n",
      "17\n",
      "18\n",
      "19\n",
      "20\n"
     ]
    }
   ],
   "source": [
    "i = 1\n",
    "while true\n",
    "    if i < 10\n",
    "        i += 1\n",
    "        continue\n",
    "    elseif i > 20\n",
    "        break\n",
    "    else\n",
    "        println(i)\n",
    "        i += 1\n",
    "    end\n",
    "end"
   ]
  },
  {
   "cell_type": "markdown",
   "metadata": {},
   "source": [
    "The final (very important!) feature we will discuss is broadcasting. Take the function below and define an array:"
   ]
  },
  {
   "cell_type": "code",
   "execution_count": 25,
   "metadata": {},
   "outputs": [
    {
     "data": {
      "text/plain": [
       "multiply_by_6 (generic function with 1 method)"
      ]
     },
     "metadata": {},
     "output_type": "display_data"
    }
   ],
   "source": [
    "function multiply_by_6(n::Int)\n",
    "   return 6*n\n",
    "end"
   ]
  },
  {
   "cell_type": "code",
   "execution_count": 26,
   "metadata": {},
   "outputs": [
    {
     "data": {
      "text/plain": [
       "1×3 Matrix{Int64}:\n",
       " 1  2  3"
      ]
     },
     "metadata": {},
     "output_type": "display_data"
    }
   ],
   "source": [
    "array = [1 2 3]"
   ]
  },
  {
   "cell_type": "code",
   "execution_count": 27,
   "metadata": {},
   "outputs": [
    {
     "ename": "MethodError",
     "evalue": "MethodError: no method matching multiply_by_6(::Matrix{Int64})\nClosest candidates are:\n  multiply_by_6(!Matched::Int64) at /mnt/d/Study Materials/Drexel_Study/2024_Fall_Term/MATH 300/Math_300_2024/recitation/jl_notebook_cell_df34fa98e69747e1a8f8a730347b8e2f_X61sdnNjb2RlLXJlbW90ZQ==.jl:1",
     "output_type": "error",
     "traceback": [
      "MethodError: no method matching multiply_by_6(::Matrix{Int64})\n",
      "Closest candidates are:\n",
      "  multiply_by_6(!Matched::Int64) at /mnt/d/Study Materials/Drexel_Study/2024_Fall_Term/MATH 300/Math_300_2024/recitation/jl_notebook_cell_df34fa98e69747e1a8f8a730347b8e2f_X61sdnNjb2RlLXJlbW90ZQ==.jl:1\n",
      "\n",
      "Stacktrace:\n",
      " [1] top-level scope\n",
      "   @ /mnt/d/Study Materials/Drexel_Study/2024_Fall_Term/MATH 300/Math_300_2024/recitation/jl_notebook_cell_df34fa98e69747e1a8f8a730347b8e2f_X63sdnNjb2RlLXJlbW90ZQ==.jl:1"
     ]
    }
   ],
   "source": [
    "multiply_by_6(array)"
   ]
  },
  {
   "cell_type": "markdown",
   "metadata": {},
   "source": [
    "We can't apply the function to the array, because it expects a single integer. But we can apply the function to the array elementwise by using the broadcasting feature with the dot operator `.`:"
   ]
  },
  {
   "cell_type": "code",
   "execution_count": 28,
   "metadata": {},
   "outputs": [
    {
     "data": {
      "text/plain": [
       "1×3 Matrix{Int64}:\n",
       " 6  12  18"
      ]
     },
     "metadata": {},
     "output_type": "display_data"
    }
   ],
   "source": [
    "multiply_by_6.(array)"
   ]
  },
  {
   "cell_type": "markdown",
   "metadata": {},
   "source": [
    "Alternatively, we can use the dot **macro**:"
   ]
  },
  {
   "cell_type": "code",
   "execution_count": 29,
   "metadata": {},
   "outputs": [
    {
     "data": {
      "text/plain": [
       "1×3 Matrix{Int64}:\n",
       " 6  12  18"
      ]
     },
     "metadata": {},
     "output_type": "display_data"
    }
   ],
   "source": [
    "@. multiply_by_6(array)"
   ]
  },
  {
   "cell_type": "markdown",
   "metadata": {},
   "source": [
    "This macro is very helpful when you have an expression where you need to have a lot of dot operators:"
   ]
  },
  {
   "cell_type": "code",
   "execution_count": 30,
   "metadata": {},
   "outputs": [
    {
     "data": {
      "text/plain": [
       "1×3 Matrix{Float64}:\n",
       " 0.882243  -0.739477  -0.917444"
      ]
     },
     "metadata": {},
     "output_type": "display_data"
    }
   ],
   "source": [
    "@. sin(2*cos(array)) # instead of sin.(2*cos.(array))"
   ]
  },
  {
   "cell_type": "markdown",
   "metadata": {},
   "source": [
    "Finally, some resources:\n",
    "\n",
    "Documentation for useful packages:\n",
    "\n",
    "Base Julia - https://docs.julialang.org/en/v1/\n",
    "\n",
    "LinearAlgebra - https://docs.julialang.org/en/v1/stdlib/LinearAlgebra/\n",
    "\n",
    "Plots - https://docs.juliaplots.org/stable/\n",
    "\n",
    "StatsBase - https://juliastats.org/StatsBase.jl/stable/\n",
    "\n",
    "DifferentialEquations - https://diffeq.sciml.ai/stable/\n",
    "\n",
    "Other Resources:\n",
    "\n",
    "Discourse: https://discourse.julialang.org/\n",
    "\n",
    "Slack: https://julialang.org/slack/\n",
    "\n",
    "Forem: https://forem.julialang.org/"
   ]
  }
 ],
 "metadata": {
  "kernelspec": {
   "display_name": "Julia 1.8.1",
   "language": "julia",
   "name": "julia-1.8"
  },
  "language_info": {
   "file_extension": ".jl",
   "mimetype": "application/julia",
   "name": "julia",
   "version": "1.8.1"
  }
 },
 "nbformat": 4,
 "nbformat_minor": 4
}
