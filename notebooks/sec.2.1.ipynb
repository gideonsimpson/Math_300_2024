{
 "cells": [
  {
   "cell_type": "markdown",
   "id": "3c08e857-33cf-4753-9113-c17fc6352f8f",
   "metadata": {},
   "source": [
    "# Bisection Method"
   ]
  },
  {
   "cell_type": "code",
   "execution_count": 1,
   "id": "63b2d2ee-4a91-49e7-ae89-3eb0055c687e",
   "metadata": {},
   "outputs": [],
   "source": [
    "import numpy as np # type: ignore\n",
    "import matplotlib.pyplot as plt # type: ignore\n",
    "from math import log2, ceil"
   ]
  },
  {
   "cell_type": "code",
   "execution_count": 2,
   "id": "815c83ff-47c1-4477-9f6f-6b894ec14695",
   "metadata": {},
   "outputs": [],
   "source": [
    "plt.rcParams.update({'lines.linewidth': 2, 'lines.markersize': 6,\n",
    "                     'xtick.labelsize': 12, 'ytick.labelsize': 12,\n",
    "                     'axes.labelsize': 14, 'legend.fontsize': 12,\n",
    "                     'axes.titlesize': 12})"
   ]
  },
  {
   "cell_type": "code",
   "execution_count": 3,
   "id": "898f2ec5-4dae-4b01-93e6-8f05fe654364",
   "metadata": {},
   "outputs": [],
   "source": [
    "def bisection(f, a, b, n_max, tol, verbose=True):\n",
    "    converged = False\n",
    "    p = 0\n",
    "    for i in range(1, n_max+1):\n",
    "        p = 0.5 * (a + b)\n",
    "        if verbose:\n",
    "            print(f\" {i:3d}: a = {a:.8f}, b = {b:.8f}, p = {p:.8f}, f(p) = {f(p):g}\")\n",
    "\n",
    "        if f(a) * f(p) <= 0:\n",
    "            b = p\n",
    "        else:\n",
    "            a = p\n",
    "\n",
    "        if abs(f(p)) == 0:\n",
    "            converged = True\n",
    "            break\n",
    "\n",
    "        if i > 1 and 0.5 * (b - a) < tol:\n",
    "            converged = True\n",
    "            break\n",
    "\n",
    "    if not converged:\n",
    "        print(f\"ERROR: Did not converge after {n_max} iterations\")\n",
    "\n",
    "    return p"
   ]
  },
  {
   "cell_type": "markdown",
   "id": "4ceb79bf-3b08-4684-9383-242d2234d22f",
   "metadata": {},
   "source": [
    "## Example 1\n",
    "Find a root of $x^3 + 4x^2 - 10$ in $[1,2]$."
   ]
  },
  {
   "cell_type": "code",
   "execution_count": 4,
   "id": "2a6098b8-ff5d-4ed1-85ba-f133b5062157",
   "metadata": {},
   "outputs": [
    {
     "name": "stdout",
     "output_type": "stream",
     "text": [
      "   1: a = 1.00000000, b = 2.00000000, p = 1.50000000, f(p) = 2.375\n",
      "   2: a = 1.00000000, b = 1.50000000, p = 1.25000000, f(p) = -1.79688\n",
      "   3: a = 1.25000000, b = 1.50000000, p = 1.37500000, f(p) = 0.162109\n",
      "   4: a = 1.25000000, b = 1.37500000, p = 1.31250000, f(p) = -0.848389\n",
      "   5: a = 1.31250000, b = 1.37500000, p = 1.34375000, f(p) = -0.350983\n",
      "   6: a = 1.34375000, b = 1.37500000, p = 1.35937500, f(p) = -0.0964088\n",
      "   7: a = 1.35937500, b = 1.37500000, p = 1.36718750, f(p) = 0.0323558\n",
      "   8: a = 1.35937500, b = 1.36718750, p = 1.36328125, f(p) = -0.03215\n",
      "   9: a = 1.36328125, b = 1.36718750, p = 1.36523438, f(p) = 7.20248e-05\n",
      "  10: a = 1.36328125, b = 1.36523438, p = 1.36425781, f(p) = -0.0160467\n",
      "  11: a = 1.36425781, b = 1.36523438, p = 1.36474609, f(p) = -0.00798926\n",
      "  12: a = 1.36474609, b = 1.36523438, p = 1.36499023, f(p) = -0.0039591\n",
      "  13: a = 1.36499023, b = 1.36523438, p = 1.36511230, f(p) = -0.00194366\n",
      "  14: a = 1.36511230, b = 1.36523438, p = 1.36517334, f(p) = -0.000935847\n",
      "  15: a = 1.36517334, b = 1.36523438, p = 1.36520386, f(p) = -0.000431919\n",
      "  16: a = 1.36520386, b = 1.36523438, p = 1.36521912, f(p) = -0.000179949\n",
      "  17: a = 1.36521912, b = 1.36523438, p = 1.36522675, f(p) = -5.39625e-05\n",
      "  18: a = 1.36522675, b = 1.36523438, p = 1.36523056, f(p) = 9.03099e-06\n",
      "  19: a = 1.36522675, b = 1.36523056, p = 1.36522865, f(p) = -2.24658e-05\n",
      "  20: a = 1.36522865, b = 1.36523056, p = 1.36522961, f(p) = -6.71741e-06\n",
      "  21: a = 1.36522961, b = 1.36523056, p = 1.36523008, f(p) = 1.15679e-06\n",
      "  22: a = 1.36522961, b = 1.36523008, p = 1.36522985, f(p) = -2.78031e-06\n",
      "  23: a = 1.36522985, b = 1.36523008, p = 1.36522996, f(p) = -8.11763e-07\n",
      "  24: a = 1.36522996, b = 1.36523008, p = 1.36523002, f(p) = 1.72513e-07\n",
      "  25: a = 1.36522996, b = 1.36523002, p = 1.36522999, f(p) = -3.19625e-07\n",
      "  26: a = 1.36522999, b = 1.36523002, p = 1.36523001, f(p) = -7.35561e-08\n"
     ]
    },
    {
     "data": {
      "text/plain": [
       "1.3652300089597702"
      ]
     },
     "execution_count": 4,
     "metadata": {},
     "output_type": "execute_result"
    }
   ],
   "source": [
    "f = lambda x: x**3 + 4 * x**2 - 10\n",
    "a = 1\n",
    "b = 2\n",
    "n_max = 100\n",
    "tol = 1e-8\n",
    "\n",
    "bisection(f, a, b, n_max, tol)"
   ]
  },
  {
   "cell_type": "code",
   "execution_count": 5,
   "id": "3b230f5f-661a-49d9-9131-3c9ded137836",
   "metadata": {},
   "outputs": [
    {
     "name": "stdout",
     "output_type": "stream",
     "text": [
      "   1: a = 1.00000000, b = 2.00000000, p = 1.50000000, f(p) = 2.375\n",
      "   2: a = 1.00000000, b = 1.50000000, p = 1.25000000, f(p) = -1.79688\n",
      "   3: a = 1.25000000, b = 1.50000000, p = 1.37500000, f(p) = 0.162109\n",
      "   4: a = 1.25000000, b = 1.37500000, p = 1.31250000, f(p) = -0.848389\n",
      "   5: a = 1.31250000, b = 1.37500000, p = 1.34375000, f(p) = -0.350983\n",
      "   6: a = 1.34375000, b = 1.37500000, p = 1.35937500, f(p) = -0.0964088\n",
      "   7: a = 1.35937500, b = 1.37500000, p = 1.36718750, f(p) = 0.0323558\n",
      "   8: a = 1.35937500, b = 1.36718750, p = 1.36328125, f(p) = -0.03215\n",
      "   9: a = 1.36328125, b = 1.36718750, p = 1.36523438, f(p) = 7.20248e-05\n",
      "  10: a = 1.36328125, b = 1.36523438, p = 1.36425781, f(p) = -0.0160467\n",
      "  11: a = 1.36425781, b = 1.36523438, p = 1.36474609, f(p) = -0.00798926\n",
      "  12: a = 1.36474609, b = 1.36523438, p = 1.36499023, f(p) = -0.0039591\n",
      "  13: a = 1.36499023, b = 1.36523438, p = 1.36511230, f(p) = -0.00194366\n",
      "  14: a = 1.36511230, b = 1.36523438, p = 1.36517334, f(p) = -0.000935847\n",
      "  15: a = 1.36517334, b = 1.36523438, p = 1.36520386, f(p) = -0.000431919\n",
      "  16: a = 1.36520386, b = 1.36523438, p = 1.36521912, f(p) = -0.000179949\n",
      "  17: a = 1.36521912, b = 1.36523438, p = 1.36522675, f(p) = -5.39625e-05\n",
      "  18: a = 1.36522675, b = 1.36523438, p = 1.36523056, f(p) = 9.03099e-06\n",
      "  19: a = 1.36522675, b = 1.36523056, p = 1.36522865, f(p) = -2.24658e-05\n",
      "  20: a = 1.36522865, b = 1.36523056, p = 1.36522961, f(p) = -6.71741e-06\n"
     ]
    }
   ],
   "source": [
    "n_max = 20\n",
    "a_vals = np.zeros(n_max)\n",
    "b_vals = np.zeros(n_max)\n",
    "p_vals = np.zeros(n_max)\n",
    "a = 1\n",
    "b = 2\n",
    "p = 0\n",
    "for i in range(n_max):\n",
    "    a_vals[i] = a\n",
    "    b_vals[i] = b\n",
    "    p = 0.5 *  (a + b)\n",
    "    p_vals[i] = p\n",
    "    print(f\" {i+1:3d}: a = {a:.8f}, b = {b:.8f}, p = {p:.8f}, f(p) = {f(p):g}\")\n",
    "    if f(a) * f(p) <= 0:\n",
    "        b = p\n",
    "    else:\n",
    "        a = p"
   ]
  },
  {
   "cell_type": "code",
   "execution_count": 6,
   "id": "84eed727-5327-4e67-a7ad-2b660f4bc2f7",
   "metadata": {},
   "outputs": [
    {
     "data": {
      "image/png": "[encoded data removed]",
      "text/plain": [
       "<Figure size 640x480 with 1 Axes>"
      ]
     },
     "metadata": {},
     "output_type": "display_data"
    }
   ],
   "source": [
    "from matplotlib.animation import FuncAnimation # type: ignore\n",
    "\n",
    "fig, ax = plt.subplots()\n",
    "x = np.linspace(1, 2, 100)\n",
    "y = f(x)\n",
    "line, = ax.plot(x, y, label='f(x)')\n",
    "point_a, = ax.plot([], [], 'ro')\n",
    "point_b, = ax.plot([], [], 'ro')\n",
    "point_p, = ax.plot([], [], 'bo')\n",
    "\n",
    "def update(i):\n",
    "    ax.set_title(f\"Iteration {i+1}\")\n",
    "    point_a.set_data([a_vals[i], a_vals[i]], [0, 0])\n",
    "    point_b.set_data([b_vals[i], b_vals[i]], [0, 0])\n",
    "    point_p.set_data([p_vals[i], p_vals[i]], [0, f(p_vals[i])])\n",
    "    return point_a, point_b, point_p\n",
    "\n",
    "ani = FuncAnimation(fig, update, frames=range(n_max), repeat=False)\n",
    "plt.xlabel('x')\n",
    "plt.ylabel('y')\n",
    "plt.legend()\n",
    "plt.show()"
   ]
  },
  {
   "cell_type": "markdown",
   "id": "b45a27c2-3b04-4117-aa78-a2eb20e63833",
   "metadata": {},
   "source": [
    "## Conservative Nature of the Error Estimator\n",
    "The number of iterations the theorem predicts that to get \n",
    "$$\n",
    "|p_n -p|< {\\rm TOL},\n",
    "$$\n",
    "it is sufficient to take $n$ large enough such that\n",
    "$$\n",
    "\\frac{b-a}{2^n} < {\\rm TOL}\n",
    "$$\n",
    "\n",
    "will be needed to satisfy a particular absolute error is often much higher than needed.\n",
    "\n",
    "Suppose, for the above problem, we want an absolute error $<10^{-3}$.  "
   ]
  },
  {
   "cell_type": "code",
   "execution_count": 7,
   "id": "4423b1a6-8b5e-40cc-82b6-3498d4575e44",
   "metadata": {},
   "outputs": [
    {
     "name": "stdout",
     "output_type": "stream",
     "text": [
      "n_max = 10\n",
      "   1: a = 1.00000000, b = 2.00000000, p = 1.50000000, f(p) = 2.375\n",
      "   2: a = 1.00000000, b = 1.50000000, p = 1.25000000, f(p) = -1.79688\n",
      "   3: a = 1.25000000, b = 1.50000000, p = 1.37500000, f(p) = 0.162109\n",
      "   4: a = 1.25000000, b = 1.37500000, p = 1.31250000, f(p) = -0.848389\n",
      "   5: a = 1.31250000, b = 1.37500000, p = 1.34375000, f(p) = -0.350983\n",
      "   6: a = 1.34375000, b = 1.37500000, p = 1.35937500, f(p) = -0.0964088\n",
      "   7: a = 1.35937500, b = 1.37500000, p = 1.36718750, f(p) = 0.0323558\n",
      "   8: a = 1.35937500, b = 1.36718750, p = 1.36328125, f(p) = -0.03215\n",
      "   9: a = 1.36328125, b = 1.36718750, p = 1.36523438, f(p) = 7.20248e-05\n",
      "  10: a = 1.36328125, b = 1.36523438, p = 1.36425781, f(p) = -0.0160467\n",
      "n_actual = 9\n"
     ]
    }
   ],
   "source": [
    "p_exact = 1.3652300134141  # found elsewhere\n",
    "a = 1\n",
    "b = 2\n",
    "\n",
    "n_max = ceil(log2(10**3 * (b - a)))\n",
    "print(f'n_max = {n_max}')\n",
    "\n",
    "a_vals = np.zeros(n_max)\n",
    "b_vals = np.zeros(n_max)\n",
    "p_vals = np.zeros(n_max)\n",
    "p = 0\n",
    "for i in range(n_max):\n",
    "    a_vals[i] = a\n",
    "    b_vals[i] = b\n",
    "    p = 0.5 *  (a + b)\n",
    "    p_vals[i] = p\n",
    "    print(f\" {i+1:3d}: a = {a:.8f}, b = {b:.8f}, p = {p:.8f}, f(p) = {f(p):g}\")\n",
    "    if f(a) * f(p) <= 0:\n",
    "        b = p\n",
    "    else:\n",
    "        a = p\n",
    "\n",
    "n_actual = 0\n",
    "for i in range(n_max):\n",
    "    if abs(p_vals[i] - p_exact) < 1e-3:\n",
    "        n_actual = i + 1\n",
    "        break\n",
    "print(f'n_actual = {n_actual}')"
   ]
  }
 ],
 "metadata": {
  "kernelspec": {
   "display_name": "Python 3",
   "language": "python",
   "name": "python3"
  },
  "language_info": {
   "codemirror_mode": {
    "name": "ipython",
    "version": 3
   },
   "file_extension": ".py",
   "mimetype": "text/x-python",
   "name": "python",
   "nbconvert_exporter": "python",
   "pygments_lexer": "ipython3",
   "version": "3.10.12"
  }
 },
 "nbformat": 4,
 "nbformat_minor": 5
}
