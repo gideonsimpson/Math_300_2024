{
 "cells": [
  {
   "cell_type": "markdown",
   "id": "7337bc3a-79ee-47cb-ab2f-a9ad7e1c27de",
   "metadata": {},
   "source": [
    "# Newton's Method"
   ]
  },
  {
   "cell_type": "code",
   "execution_count": 18,
   "id": "17716a8a-3d74-4fe5-a370-03c535b08025",
   "metadata": {},
   "outputs": [],
   "source": [
    "using Plots\n",
    "using Printf"
   ]
  },
  {
   "cell_type": "code",
<<<<<<< HEAD
   "execution_count": 3,
=======
   "execution_count": 17,
>>>>>>> 654fe18e46 (How can we pull if we staged the changes?)
   "id": "773fcbbc-68ac-4ced-9ac5-26b551385124",
   "metadata": {},
   "outputs": [],
   "source": [
    "default(lw=2,markersize = 6,\n",
    "    xtickfont=font(12), ytickfont=font(12), \n",
    "    guidefont=font(14), legendfont=font(12), \n",
    "    titlefont=font(12))"
   ]
  },
  {
   "cell_type": "markdown",
   "id": "b0f7095d",
   "metadata": {},
   "source": [
    "Code for Newton's method for function `f` with derivative `df`, and initial guess `p0`"
   ]
  },
  {
   "cell_type": "code",
   "execution_count": 3,
   "id": "27f36127-64f2-42cc-85e7-a47b3f02324f",
   "metadata": {},
   "outputs": [
    {
     "data": {
      "text/plain": [
       "newton (generic function with 1 method)"
      ]
     },
     "metadata": {},
     "output_type": "display_data"
    }
   ],
   "source": [
    "function newton(f, df, p0, n_max, rel_tol; verbose = true)\n",
    "    \n",
    "    converged = false;\n",
    "    p = p0;\n",
    "    p_old = p0;\n",
    "\n",
    "    for i in 1:n_max\n",
    "\n",
    "        p = p_old - f(p_old)/df(p_old);\n",
    "        \n",
    "        if verbose\n",
    "            @printf(\" %d: p = %.15g, |f(p)| = %g\\n\", i, p, abs(f(p)));\n",
    "        end\n",
    "        \n",
    "        if (i>1)\n",
    "            if abs(p-p_old)/abs(p)< rel_tol\n",
    "                converged = true;\n",
    "                break\n",
    "            end\n",
    "        end\n",
    "\n",
    "        p_old = p;\n",
    "\n",
    "    end\n",
    "    \n",
    "    if !converged\n",
    "        @printf(\"ERROR: Did not converge after %d iterations\\n\", n_max);\n",
    "    end\n",
    "\n",
    "    return p\n",
    "    \n",
    "end"
   ]
  },
  {
   "cell_type": "markdown",
   "id": "7dd4aca9",
   "metadata": {},
   "source": [
    "Code for bisection method `f` on interval `[a,b]`"
   ]
  },
  {
   "cell_type": "code",
   "execution_count": 4,
   "id": "ce034a1d-5798-4e01-b7f9-cdd38d9575c7",
   "metadata": {},
   "outputs": [
    {
     "data": {
      "text/plain": [
       "bisection (generic function with 1 method)"
      ]
     },
     "metadata": {},
     "output_type": "display_data"
    }
   ],
   "source": [
    "function bisection(f, a, b, n_max, rel_tol; verbose = true)\n",
    "    \n",
    "    converged = false;\n",
    "    p_old = 0;\n",
    "    p = 0;\n",
    "    for i in 1:n_max\n",
    "\n",
    "        p = 0.5 * (a+b)\n",
    "        \n",
    "        if verbose\n",
    "            @printf(\" %d: a = %g, b = %g, p = %.15g, |f(p)| = %g\\n\", i, a, b, p, abs(f(p)));\n",
    "        end\n",
    "\n",
    "        if ( f(a) * f(p)<=0)\n",
    "            b = p;\n",
    "        else\n",
    "            a = p\n",
    "        end\n",
    "        \n",
    "        if (i>1)\n",
    "            if abs(p-p_old)/abs(p)< rel_tol\n",
    "                converged = true;\n",
    "                break\n",
    "            end\n",
    "        end\n",
    "\n",
    "        if(abs(f(p))==0)\n",
    "            converged = true;\n",
    "            break\n",
    "        end\n",
    "        p_old = p;\n",
    "\n",
    "    end\n",
    "    \n",
    "    if !converged\n",
    "        @printf(\"ERROR: Did not converge after %d iterations\\n\", n_max);\n",
    "    end\n",
    "\n",
    "    return p\n",
    "    \n",
    "end"
   ]
  },
  {
   "cell_type": "markdown",
   "id": "e52dcad5-d8c5-4c49-a994-60e4481323b8",
   "metadata": {},
   "source": [
    "## Example \n",
    "Compute $\\sqrt{2}$ by solving $f(x) = 0$ with\n",
    "$$\n",
    "f(x) = x^2-2.\n",
    "$$"
   ]
  },
  {
   "cell_type": "code",
   "execution_count": 5,
   "id": "8987f174-c34c-4920-99b2-6ea29c957551",
   "metadata": {},
   "outputs": [
    {
     "name": "stdout",
     "output_type": "stream",
     "text": [
      " 1: p = 1.5, f(p) = 0.25\n",
      " 2: p = 1.41666666666667, f(p) = 0.00694444\n",
      " 3: p = 1.41421568627451, f(p) = 6.0073e-06\n",
      " 4: p = 1.41421356237469, f(p) = 4.51061e-12\n",
      " 5: p = 1.4142135623731, f(p) = 4.44089e-16\n"
     ]
    }
   ],
   "source": [
    "f = x-> x^2 - 2;\n",
    "df = x->2*x;\n",
    "p0 = 1;\n",
    "rel_tol = 1e-8;\n",
    "n_max = 100;\n",
    "\n",
    "p = newton(f, df, p0, n_max, rel_tol);"
   ]
  },
  {
   "cell_type": "code",
   "execution_count": 6,
   "id": "26c98562-292d-47d1-920e-e5538312fc2e",
   "metadata": {},
   "outputs": [
    {
     "name": "stdout",
     "output_type": "stream",
     "text": [
      "1.4142135623731\n"
     ]
    }
   ],
   "source": [
    "@printf(\"%.15g\\n\", sqrt(2))"
   ]
  },
  {
   "cell_type": "markdown",
   "id": "03696d51-e2c4-4454-a369-4ed4254f1f06",
   "metadata": {},
   "source": [
    "### Comparison with Bisection"
   ]
  },
  {
   "cell_type": "code",
   "execution_count": 7,
   "id": "6593d014-ce73-4d1d-b74d-abba0cba85ae",
   "metadata": {},
   "outputs": [
    {
     "name": "stdout",
     "output_type": "stream",
     "text": [
      " 1: a = 1, b = 2, p = 1.5, f(p) = 0.25\n",
      " 2: a = 1, b = 1.5, p = 1.25, f(p) = -0.4375\n",
      " 3: a = 1.25, b = 1.5, p = 1.375, f(p) = -0.109375\n",
      " 4: a = 1.375, b = 1.5, p = 1.4375, f(p) = 0.0664062\n",
      " 5: a = 1.375, b = 1.4375, p = 1.40625, f(p) = -0.0224609\n",
      " 6: a = 1.40625, b = 1.4375, p = 1.421875, f(p) = 0.0217285\n",
      " 7: a = 1.40625, b = 1.42188, p = 1.4140625, f(p) = -0.000427246\n",
      " 8: a = 1.41406, b = 1.42188, p = 1.41796875, f(p) = 0.0106354\n",
      " 9: a = 1.41406, b = 1.41797, p = 1.416015625, f(p) = 0.00510025\n",
      " 10: a = 1.41406, b = 1.41602, p = 1.4150390625, f(p) = 0.00233555\n",
      " 11: a = 1.41406, b = 1.41504, p = 1.41455078125, f(p) = 0.000953913\n",
      " 12: a = 1.41406, b = 1.41455, p = 1.414306640625, f(p) = 0.000263274\n",
      " 13: a = 1.41406, b = 1.41431, p = 1.4141845703125, f(p) = -8.20011e-05\n",
      " 14: a = 1.41418, b = 1.41431, p = 1.41424560546875, f(p) = 9.06326e-05\n",
      " 15: a = 1.41418, b = 1.41425, p = 1.41421508789062, f(p) = 4.31482e-06\n",
      " 16: a = 1.41418, b = 1.41422, p = 1.41419982910156, f(p) = -3.88434e-05\n",
      " 17: a = 1.4142, b = 1.41422, p = 1.41420745849609, f(p) = -1.72643e-05\n",
      " 18: a = 1.41421, b = 1.41422, p = 1.41421127319336, f(p) = -6.47477e-06\n",
      " 19: a = 1.41421, b = 1.41422, p = 1.41421318054199, f(p) = -1.07998e-06\n",
      " 20: a = 1.41421, b = 1.41422, p = 1.41421413421631, f(p) = 1.61742e-06\n",
      " 21: a = 1.41421, b = 1.41421, p = 1.41421365737915, f(p) = 2.68718e-07\n",
      " 22: a = 1.41421, b = 1.41421, p = 1.41421341896057, f(p) = -4.05632e-07\n",
      " 23: a = 1.41421, b = 1.41421, p = 1.41421353816986, f(p) = -6.84571e-08\n",
      " 24: a = 1.41421, b = 1.41421, p = 1.41421359777451, f(p) = 1.0013e-07\n",
      " 25: a = 1.41421, b = 1.41421, p = 1.41421356797218, f(p) = 1.58366e-08\n",
      " 26: a = 1.41421, b = 1.41421, p = 1.41421355307102, f(p) = -2.63102e-08\n",
      " 27: a = 1.41421, b = 1.41421, p = 1.4142135605216, f(p) = -5.23681e-09\n"
     ]
    }
   ],
   "source": [
    "a = 1;\n",
    "b = 2;\n",
    "rel_tol = 1e-8;\n",
    "n_max = 100;\n",
    "\n",
    "p = bisection(f,a, b, n_max, rel_tol);"
   ]
  },
  {
   "cell_type": "code",
   "execution_count": 8,
   "id": "3f624162-3f04-4fed-bfe2-e559bace4932",
   "metadata": {},
   "outputs": [
    {
     "name": "stdout",
     "output_type": "stream",
     "text": [
      "1.4142135623731\n"
     ]
    }
   ],
   "source": [
    "@printf(\"%.15g\\n\", sqrt(2))"
   ]
  },
  {
   "cell_type": "markdown",
   "id": "b967e44b-9e2e-48fb-8048-ec2fe2b362c5",
   "metadata": {},
   "source": [
    "### Visualization"
   ]
  },
  {
   "cell_type": "code",
<<<<<<< HEAD
   "execution_count": 10,
=======
   "execution_count": 9,
>>>>>>> 654fe18e46 (How can we pull if we staged the changes?)
   "id": "9df5c122-29a0-48f6-abca-990e2f48bde1",
   "metadata": {},
   "outputs": [],
   "source": [
    "n_max = 5;\n",
    "p_vals = zeros(n_max+1);\n",
    "p0 = 1;\n",
    "\n",
    "p = p0;\n",
    "p_vals[1] = p;\n",
    "for i in 1:n_max\n",
    "    p = p - f(p)/df(p);\n",
    "    p_vals[i+1] = p;\n",
    "\n",
    "end\n",
    "\n",
    "xx = LinRange(0,2,100);\n",
    "\n",
    "ff = f.(xx);\n",
    "plot(xx, ff, label=\"f\", legend=:topleft)\n",
    "plot!(xx, 0 *xx,label=\"\", color=:black)\n",
    "\n",
    "anim = @animate for i=1:n_max+1\n",
    "    \n",
    "    p = p_vals[i];\n",
    "    \n",
    "    plot!([p, p], [0, f(p)], label=\"\", color=:red, ls=:dash)\n",
    "    plot!([p, p- f(p)/df(p)],[f(p), 0],label=\"\", color=:red)\n",
    "    xlims!(0.9,1.6)\n",
    "    ylims!(-1, 0.5)\n",
    "    \n",
    "    xlabel!(\"x\");\n",
    "    ylabel!(\"y\")\n",
    "    title!(@sprintf(\"n = %d\", i))\n",
    "end;\n",
    "\n"
   ]
  },
  {
   "cell_type": "code",
   "execution_count": 10,
   "id": "f3ca6736-6dca-42f7-b943-fcaa6f86cc81",
   "metadata": {},
   "outputs": [
    {
     "name": "stderr",
     "output_type": "stream",
     "text": [
      "┌ Info: Saved animation to /tmp/jl_9Ifej6BI9E.gif\n",
      "└ @ Plots /home/kagamirudo/.julia/packages/Plots/kLeqV/src/animation.jl:156\n"
     ]
    },
    {
     "data": {
      "text/html": [
       "<img src=\"data:image/gif;base64,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\" />"
      ],
      "text/plain": [
       "Plots.AnimatedGif(\"/tmp/jl_9Ifej6BI9E.gif\")"
      ]
     },
     "metadata": {},
     "output_type": "display_data"
    }
   ],
   "source": [
    "gif(anim,  fps = 1)"
   ]
  },
  {
   "cell_type": "markdown",
   "id": "8ce92183-557b-493a-86fc-3a9201aa1940",
   "metadata": {},
   "source": [
    "## Example\n",
    "Find a root of\n",
    "$$\n",
    "f(x) = \\cos(x) - x\n",
    "$$"
   ]
  },
  {
   "cell_type": "code",
   "execution_count": 11,
   "id": "d926a799-46de-4eab-b390-4a6b067ec8af",
   "metadata": {},
   "outputs": [
    {
     "name": "stdout",
     "output_type": "stream",
     "text": [
      " 1: p = 1, f(p) = -0.459698\n",
      " 2: p = 0.750363867840244, f(p) = -0.0189231\n",
      " 3: p = 0.739112890911362, f(p) = -4.64559e-05\n",
      " 4: p = 0.739085133385284, f(p) = -2.84721e-10\n",
      " 5: p = 0.739085133215161, f(p) = 0\n"
     ]
    }
   ],
   "source": [
    "f = x-> cos(x) -x;\n",
    "df = x->-sin(x) -1;\n",
    "p0 = 0;\n",
    "rel_tol = 1e-8;\n",
    "n_max = 100;\n",
    "\n",
    "p = newton(f, df, p0, n_max, rel_tol);"
   ]
  },
  {
   "cell_type": "code",
   "execution_count": 12,
   "id": "6de3d91d-a79d-4b3c-83c2-af2ddf9265f6",
   "metadata": {},
   "outputs": [
    {
     "data": {
      "image/png": "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",
      "image/svg+xml": [
       "<?xml version=\"1.0\" encoding=\"utf-8\"?>\n",
       "<svg xmlns=\"http://www.w3.org/2000/svg\" xmlns:xlink=\"http://www.w3.org/1999/xlink\" width=\"600\" height=\"400\" viewBox=\"0 0 2400 1600\">\n",
       "<defs>\n",
       "  <clipPath id=\"clip180\">\n",
       "    <rect x=\"0\" y=\"0\" width=\"2400\" height=\"1600\"/>\n",
       "  </clipPath>\n",
       "</defs>\n",
       "<path clip-path=\"url(#clip180)\" d=\"M0 1600 L2400 1600 L2400 0 L0 0  Z\" fill=\"#ffffff\" fill-rule=\"evenodd\" fill-opacity=\"1\"/>\n",
       "<defs>\n",
       "  <clipPath id=\"clip181\">\n",
       "    <rect x=\"480\" y=\"0\" width=\"1681\" height=\"1600\"/>\n",
       "  </clipPath>\n",
       "</defs>\n",
       "<path clip-path=\"url(#clip180)\" d=\"M247.408 1469.17 L2352.76 1469.17 L2352.76 47.2441 L247.408 47.2441  Z\" fill=\"#ffffff\" fill-rule=\"evenodd\" fill-opacity=\"1\"/>\n",
       "<defs>\n",
       "  <clipPath id=\"clip182\">\n",
       "    <rect x=\"247\" y=\"47\" width=\"2106\" height=\"1423\"/>\n",
       "  </clipPath>\n",
       "</defs>\n",
       "<polyline clip-path=\"url(#clip182)\" style=\"stroke:#000000; stroke-linecap:round; stroke-linejoin:round; stroke-width:2; stroke-opacity:0.1; fill:none\" points=\"306.993,1469.17 306.993,47.2441 \"/>\n",
       "<polyline clip-path=\"url(#clip182)\" style=\"stroke:#000000; stroke-linecap:round; stroke-linejoin:round; stroke-width:2; stroke-opacity:0.1; fill:none\" points=\"939.213,1469.17 939.213,47.2441 \"/>\n",
       "<polyline clip-path=\"url(#clip182)\" style=\"stroke:#000000; stroke-linecap:round; stroke-linejoin:round; stroke-width:2; stroke-opacity:0.1; fill:none\" points=\"1571.43,1469.17 1571.43,47.2441 \"/>\n",
       "<polyline clip-path=\"url(#clip182)\" style=\"stroke:#000000; stroke-linecap:round; stroke-linejoin:round; stroke-width:2; stroke-opacity:0.1; fill:none\" points=\"2203.65,1469.17 2203.65,47.2441 \"/>\n",
       "<polyline clip-path=\"url(#clip182)\" style=\"stroke:#000000; stroke-linecap:round; stroke-linejoin:round; stroke-width:2; stroke-opacity:0.1; fill:none\" points=\"247.408,1391.98 2352.76,1391.98 \"/>\n",
       "<polyline clip-path=\"url(#clip182)\" style=\"stroke:#000000; stroke-linecap:round; stroke-linejoin:round; stroke-width:2; stroke-opacity:0.1; fill:none\" points=\"247.408,1131.08 2352.76,1131.08 \"/>\n",
       "<polyline clip-path=\"url(#clip182)\" style=\"stroke:#000000; stroke-linecap:round; stroke-linejoin:round; stroke-width:2; stroke-opacity:0.1; fill:none\" points=\"247.408,870.185 2352.76,870.185 \"/>\n",
       "<polyline clip-path=\"url(#clip182)\" style=\"stroke:#000000; stroke-linecap:round; stroke-linejoin:round; stroke-width:2; stroke-opacity:0.1; fill:none\" points=\"247.408,609.286 2352.76,609.286 \"/>\n",
       "<polyline clip-path=\"url(#clip182)\" style=\"stroke:#000000; stroke-linecap:round; stroke-linejoin:round; stroke-width:2; stroke-opacity:0.1; fill:none\" points=\"247.408,348.386 2352.76,348.386 \"/>\n",
       "<polyline clip-path=\"url(#clip182)\" style=\"stroke:#000000; stroke-linecap:round; stroke-linejoin:round; stroke-width:2; stroke-opacity:0.1; fill:none\" points=\"247.408,87.4872 2352.76,87.4872 \"/>\n",
       "<polyline clip-path=\"url(#clip180)\" style=\"stroke:#000000; stroke-linecap:round; stroke-linejoin:round; stroke-width:4; stroke-opacity:1; fill:none\" points=\"247.408,1469.17 2352.76,1469.17 \"/>\n",
       "<polyline clip-path=\"url(#clip180)\" style=\"stroke:#000000; stroke-linecap:round; stroke-linejoin:round; stroke-width:4; stroke-opacity:1; fill:none\" points=\"306.993,1469.17 306.993,1450.27 \"/>\n",
       "<polyline clip-path=\"url(#clip180)\" style=\"stroke:#000000; stroke-linecap:round; stroke-linejoin:round; stroke-width:4; stroke-opacity:1; fill:none\" points=\"939.213,1469.17 939.213,1450.27 \"/>\n",
       "<polyline clip-path=\"url(#clip180)\" style=\"stroke:#000000; stroke-linecap:round; stroke-linejoin:round; stroke-width:4; stroke-opacity:1; fill:none\" points=\"1571.43,1469.17 1571.43,1450.27 \"/>\n",
       "<polyline clip-path=\"url(#clip180)\" style=\"stroke:#000000; stroke-linecap:round; stroke-linejoin:round; stroke-width:4; stroke-opacity:1; fill:none\" points=\"2203.65,1469.17 2203.65,1450.27 \"/>\n",
       "<path clip-path=\"url(#clip180)\" d=\"M273.07 1505.95 Q267.653 1505.95 264.91 1511.29 Q262.202 1516.61 262.202 1527.3 Q262.202 1537.96 264.91 1543.31 Q267.653 1548.62 273.07 1548.62 Q278.521 1548.62 281.23 1543.31 Q283.973 1537.96 283.973 1527.3 Q283.973 1516.61 281.23 1511.29 Q278.521 1505.95 273.07 1505.95 M273.07 1500.39 Q281.785 1500.39 286.368 1507.3 Q290.986 1514.18 290.986 1527.3 Q290.986 1540.39 286.368 1547.3 Q281.785 1554.17 273.07 1554.17 Q264.355 1554.17 259.737 1547.3 Q255.153 1540.39 255.153 1527.3 Q255.153 1514.18 259.737 1507.3 Q264.355 1500.39 273.07 1500.39 Z\" fill=\"#000000\" fill-rule=\"nonzero\" fill-opacity=\"1\" /><path clip-path=\"url(#clip180)\" d=\"M303.313 1544.35 L310.639 1544.35 L310.639 1553.17 L303.313 1553.17 L303.313 1544.35 Z\" fill=\"#000000\" fill-rule=\"nonzero\" fill-opacity=\"1\" /><path clip-path=\"url(#clip180)\" d=\"M340.917 1505.95 Q335.5 1505.95 332.757 1511.29 Q330.049 1516.61 330.049 1527.3 Q330.049 1537.96 332.757 1543.31 Q335.5 1548.62 340.917 1548.62 Q346.368 1548.62 349.076 1543.31 Q351.819 1537.96 351.819 1527.3 Q351.819 1516.61 349.076 1511.29 Q346.368 1505.95 340.917 1505.95 M340.917 1500.39 Q349.632 1500.39 354.215 1507.3 Q358.833 1514.18 358.833 1527.3 Q358.833 1540.39 354.215 1547.3 Q349.632 1554.17 340.917 1554.17 Q332.201 1554.17 327.583 1547.3 Q323 1540.39 323 1527.3 Q323 1514.18 327.583 1507.3 Q332.201 1500.39 340.917 1500.39 Z\" fill=\"#000000\" fill-rule=\"nonzero\" fill-opacity=\"1\" /><path clip-path=\"url(#clip180)\" d=\"M906.036 1505.95 Q900.62 1505.95 897.877 1511.29 Q895.168 1516.61 895.168 1527.3 Q895.168 1537.96 897.877 1543.31 Q900.62 1548.62 906.036 1548.62 Q911.488 1548.62 914.196 1543.31 Q916.939 1537.96 916.939 1527.3 Q916.939 1516.61 914.196 1511.29 Q911.488 1505.95 906.036 1505.95 M906.036 1500.39 Q914.751 1500.39 919.335 1507.3 Q923.953 1514.18 923.953 1527.3 Q923.953 1540.39 919.335 1547.3 Q914.751 1554.17 906.036 1554.17 Q897.321 1554.17 892.703 1547.3 Q888.12 1540.39 888.12 1527.3 Q888.12 1514.18 892.703 1507.3 Q897.321 1500.39 906.036 1500.39 Z\" fill=\"#000000\" fill-rule=\"nonzero\" fill-opacity=\"1\" /><path clip-path=\"url(#clip180)\" d=\"M936.279 1544.35 L943.605 1544.35 L943.605 1553.17 L936.279 1553.17 L936.279 1544.35 Z\" fill=\"#000000\" fill-rule=\"nonzero\" fill-opacity=\"1\" /><path clip-path=\"url(#clip180)\" d=\"M958.953 1501.33 L986.487 1501.33 L986.487 1507.23 L965.376 1507.23 L965.376 1519.94 Q966.904 1519.42 968.432 1519.18 Q969.959 1518.9 971.487 1518.9 Q980.168 1518.9 985.237 1523.65 Q990.307 1528.41 990.307 1536.54 Q990.307 1544.9 985.098 1549.56 Q979.89 1554.17 970.411 1554.17 Q967.147 1554.17 963.744 1553.62 Q960.376 1553.06 956.765 1551.95 L956.765 1544.9 Q959.89 1546.61 963.223 1547.44 Q966.557 1548.27 970.272 1548.27 Q976.279 1548.27 979.786 1545.11 Q983.293 1541.95 983.293 1536.54 Q983.293 1531.12 979.786 1527.96 Q976.279 1524.8 970.272 1524.8 Q967.46 1524.8 964.647 1525.42 Q961.869 1526.05 958.953 1527.37 L958.953 1501.33 Z\" fill=\"#000000\" fill-rule=\"nonzero\" fill-opacity=\"1\" /><path clip-path=\"url(#clip180)\" d=\"M1522.16 1547.27 L1533.62 1547.27 L1533.62 1507.72 L1521.16 1510.22 L1521.16 1503.83 L1533.55 1501.33 L1540.57 1501.33 L1540.57 1547.27 L1552.02 1547.27 L1552.02 1553.17 L1522.16 1553.17 L1522.16 1547.27 Z\" fill=\"#000000\" fill-rule=\"nonzero\" fill-opacity=\"1\" /><path clip-path=\"url(#clip180)\" d=\"M1566.19 1544.35 L1573.52 1544.35 L1573.52 1553.17 L1566.19 1553.17 L1566.19 1544.35 Z\" fill=\"#000000\" fill-rule=\"nonzero\" fill-opacity=\"1\" /><path clip-path=\"url(#clip180)\" d=\"M1603.79 1505.95 Q1598.38 1505.95 1595.63 1511.29 Q1592.93 1516.61 1592.93 1527.3 Q1592.93 1537.96 1595.63 1543.31 Q1598.38 1548.62 1603.79 1548.62 Q1609.25 1548.62 1611.95 1543.31 Q1614.7 1537.96 1614.7 1527.3 Q1614.7 1516.61 1611.95 1511.29 Q1609.25 1505.95 1603.79 1505.95 M1603.79 1500.39 Q1612.51 1500.39 1617.09 1507.3 Q1621.71 1514.18 1621.71 1527.3 Q1621.71 1540.39 1617.09 1547.3 Q1612.51 1554.17 1603.79 1554.17 Q1595.08 1554.17 1590.46 1547.3 Q1585.88 1540.39 1585.88 1527.3 Q1585.88 1514.18 1590.46 1507.3 Q1595.08 1500.39 1603.79 1500.39 Z\" fill=\"#000000\" fill-rule=\"nonzero\" fill-opacity=\"1\" /><path clip-path=\"url(#clip180)\" d=\"M2155.13 1547.27 L2166.59 1547.27 L2166.59 1507.72 L2154.12 1510.22 L2154.12 1503.83 L2166.52 1501.33 L2173.53 1501.33 L2173.53 1547.27 L2184.99 1547.27 L2184.99 1553.17 L2155.13 1553.17 L2155.13 1547.27 Z\" fill=\"#000000\" fill-rule=\"nonzero\" fill-opacity=\"1\" /><path clip-path=\"url(#clip180)\" d=\"M2199.16 1544.35 L2206.48 1544.35 L2206.48 1553.17 L2199.16 1553.17 L2199.16 1544.35 Z\" fill=\"#000000\" fill-rule=\"nonzero\" fill-opacity=\"1\" /><path clip-path=\"url(#clip180)\" d=\"M2221.83 1501.33 L2249.36 1501.33 L2249.36 1507.23 L2228.25 1507.23 L2228.25 1519.94 Q2229.78 1519.42 2231.31 1519.18 Q2232.84 1518.9 2234.36 1518.9 Q2243.05 1518.9 2248.11 1523.65 Q2253.18 1528.41 2253.18 1536.54 Q2253.18 1544.9 2247.98 1549.56 Q2242.77 1554.17 2233.29 1554.17 Q2230.02 1554.17 2226.62 1553.62 Q2223.25 1553.06 2219.64 1551.95 L2219.64 1544.9 Q2222.77 1546.61 2226.1 1547.44 Q2229.43 1548.27 2233.15 1548.27 Q2239.16 1548.27 2242.66 1545.11 Q2246.17 1541.95 2246.17 1536.54 Q2246.17 1531.12 2242.66 1527.96 Q2239.16 1524.8 2233.15 1524.8 Q2230.34 1524.8 2227.52 1525.42 Q2224.75 1526.05 2221.83 1527.37 L2221.83 1501.33 Z\" fill=\"#000000\" fill-rule=\"nonzero\" fill-opacity=\"1\" /><polyline clip-path=\"url(#clip180)\" style=\"stroke:#000000; stroke-linecap:round; stroke-linejoin:round; stroke-width:4; stroke-opacity:1; fill:none\" points=\"247.408,1469.17 247.408,47.2441 \"/>\n",
       "<polyline clip-path=\"url(#clip180)\" style=\"stroke:#000000; stroke-linecap:round; stroke-linejoin:round; stroke-width:4; stroke-opacity:1; fill:none\" points=\"247.408,1391.98 266.306,1391.98 \"/>\n",
       "<polyline clip-path=\"url(#clip180)\" style=\"stroke:#000000; stroke-linecap:round; stroke-linejoin:round; stroke-width:4; stroke-opacity:1; fill:none\" points=\"247.408,1131.08 266.306,1131.08 \"/>\n",
       "<polyline clip-path=\"url(#clip180)\" style=\"stroke:#000000; stroke-linecap:round; stroke-linejoin:round; stroke-width:4; stroke-opacity:1; fill:none\" points=\"247.408,870.185 266.306,870.185 \"/>\n",
       "<polyline clip-path=\"url(#clip180)\" style=\"stroke:#000000; stroke-linecap:round; stroke-linejoin:round; stroke-width:4; stroke-opacity:1; fill:none\" points=\"247.408,609.286 266.306,609.286 \"/>\n",
       "<polyline clip-path=\"url(#clip180)\" style=\"stroke:#000000; stroke-linecap:round; stroke-linejoin:round; stroke-width:4; stroke-opacity:1; fill:none\" points=\"247.408,348.386 266.306,348.386 \"/>\n",
       "<polyline clip-path=\"url(#clip180)\" style=\"stroke:#000000; stroke-linecap:round; stroke-linejoin:round; stroke-width:4; stroke-opacity:1; fill:none\" points=\"247.408,87.4872 266.306,87.4872 \"/>\n",
       "<path clip-path=\"url(#clip180)\" d=\"M52.4852 1392.66 L96.9988 1392.66 L96.9988 1398.56 L52.4852 1398.56 L52.4852 1392.66 Z\" fill=\"#000000\" fill-rule=\"nonzero\" fill-opacity=\"1\" /><path clip-path=\"url(#clip180)\" d=\"M113.353 1412 L124.811 1412 L124.811 1372.45 L112.346 1374.95 L112.346 1368.56 L124.742 1366.06 L131.756 1366.06 L131.756 1412 L143.214 1412 L143.214 1417.9 L113.353 1417.9 L113.353 1412 Z\" fill=\"#000000\" fill-rule=\"nonzero\" fill-opacity=\"1\" /><path clip-path=\"url(#clip180)\" d=\"M157.38 1409.08 L164.707 1409.08 L164.707 1417.9 L157.38 1417.9 L157.38 1409.08 Z\" fill=\"#000000\" fill-rule=\"nonzero\" fill-opacity=\"1\" /><path clip-path=\"url(#clip180)\" d=\"M180.054 1366.06 L207.589 1366.06 L207.589 1371.97 L186.478 1371.97 L186.478 1384.67 Q188.005 1384.15 189.533 1383.91 Q191.061 1383.63 192.589 1383.63 Q201.269 1383.63 206.339 1388.39 Q211.408 1393.15 211.408 1401.27 Q211.408 1409.64 206.2 1414.29 Q200.991 1418.91 191.512 1418.91 Q188.248 1418.91 184.846 1418.35 Q181.478 1417.8 177.866 1416.69 L177.866 1409.64 Q180.991 1411.34 184.325 1412.17 Q187.658 1413.01 191.373 1413.01 Q197.38 1413.01 200.887 1409.85 Q204.394 1406.69 204.394 1401.27 Q204.394 1395.85 200.887 1392.7 Q197.38 1389.54 191.373 1389.54 Q188.561 1389.54 185.748 1390.16 Q182.971 1390.79 180.054 1392.1 L180.054 1366.06 Z\" fill=\"#000000\" fill-rule=\"nonzero\" fill-opacity=\"1\" /><path clip-path=\"url(#clip180)\" d=\"M50.9921 1131.76 L95.5058 1131.76 L95.5058 1137.66 L50.9921 1137.66 L50.9921 1131.76 Z\" fill=\"#000000\" fill-rule=\"nonzero\" fill-opacity=\"1\" /><path clip-path=\"url(#clip180)\" d=\"M111.86 1151.1 L123.318 1151.1 L123.318 1111.55 L110.853 1114.05 L110.853 1107.66 L123.249 1105.16 L130.263 1105.16 L130.263 1151.1 L141.721 1151.1 L141.721 1157 L111.86 1157 L111.86 1151.1 Z\" fill=\"#000000\" fill-rule=\"nonzero\" fill-opacity=\"1\" /><path clip-path=\"url(#clip180)\" d=\"M155.887 1148.18 L163.214 1148.18 L163.214 1157 L155.887 1157 L155.887 1148.18 Z\" fill=\"#000000\" fill-rule=\"nonzero\" fill-opacity=\"1\" /><path clip-path=\"url(#clip180)\" d=\"M193.491 1109.78 Q188.075 1109.78 185.332 1115.13 Q182.623 1120.44 182.623 1131.14 Q182.623 1141.8 185.332 1147.14 Q188.075 1152.46 193.491 1152.46 Q198.943 1152.46 201.651 1147.14 Q204.394 1141.8 204.394 1131.14 Q204.394 1120.44 201.651 1115.13 Q198.943 1109.78 193.491 1109.78 M193.491 1104.23 Q202.207 1104.23 206.79 1111.14 Q211.408 1118.01 211.408 1131.14 Q211.408 1144.23 206.79 1151.14 Q202.207 1158.01 193.491 1158.01 Q184.776 1158.01 180.158 1151.14 Q175.575 1144.23 175.575 1131.14 Q175.575 1118.01 180.158 1111.14 Q184.776 1104.23 193.491 1104.23 Z\" fill=\"#000000\" fill-rule=\"nonzero\" fill-opacity=\"1\" /><path clip-path=\"url(#clip180)\" d=\"M52.4852 870.862 L96.9988 870.862 L96.9988 876.765 L52.4852 876.765 L52.4852 870.862 Z\" fill=\"#000000\" fill-rule=\"nonzero\" fill-opacity=\"1\" /><path clip-path=\"url(#clip180)\" d=\"M127.138 848.883 Q121.721 848.883 118.978 854.23 Q116.27 859.543 116.27 870.237 Q116.27 880.897 118.978 886.244 Q121.721 891.556 127.138 891.556 Q132.589 891.556 135.297 886.244 Q138.04 880.897 138.04 870.237 Q138.04 859.543 135.297 854.23 Q132.589 848.883 127.138 848.883 M127.138 843.327 Q135.853 843.327 140.436 850.237 Q145.054 857.112 145.054 870.237 Q145.054 883.327 140.436 890.237 Q135.853 897.112 127.138 897.112 Q118.422 897.112 113.804 890.237 Q109.221 883.327 109.221 870.237 Q109.221 857.112 113.804 850.237 Q118.422 843.327 127.138 843.327 Z\" fill=\"#000000\" fill-rule=\"nonzero\" fill-opacity=\"1\" /><path clip-path=\"url(#clip180)\" d=\"M157.38 887.285 L164.707 887.285 L164.707 896.105 L157.38 896.105 L157.38 887.285 Z\" fill=\"#000000\" fill-rule=\"nonzero\" fill-opacity=\"1\" /><path clip-path=\"url(#clip180)\" d=\"M180.054 844.265 L207.589 844.265 L207.589 850.168 L186.478 850.168 L186.478 862.876 Q188.005 862.355 189.533 862.112 Q191.061 861.834 192.589 861.834 Q201.269 861.834 206.339 866.591 Q211.408 871.348 211.408 879.473 Q211.408 887.841 206.2 892.494 Q200.991 897.112 191.512 897.112 Q188.248 897.112 184.846 896.556 Q181.478 896.001 177.866 894.89 L177.866 887.841 Q180.991 889.542 184.325 890.376 Q187.658 891.209 191.373 891.209 Q197.38 891.209 200.887 888.049 Q204.394 884.89 204.394 879.473 Q204.394 874.056 200.887 870.897 Q197.38 867.737 191.373 867.737 Q188.561 867.737 185.748 868.362 Q182.971 868.987 180.054 870.306 L180.054 844.265 Z\" fill=\"#000000\" fill-rule=\"nonzero\" fill-opacity=\"1\" /><path clip-path=\"url(#clip180)\" d=\"M125.645 587.984 Q120.228 587.984 117.485 593.331 Q114.777 598.643 114.777 609.338 Q114.777 619.997 117.485 625.345 Q120.228 630.657 125.645 630.657 Q131.096 630.657 133.804 625.345 Q136.547 619.997 136.547 609.338 Q136.547 598.643 133.804 593.331 Q131.096 587.984 125.645 587.984 M125.645 582.428 Q134.36 582.428 138.943 589.338 Q143.561 596.213 143.561 609.338 Q143.561 622.428 138.943 629.338 Q134.36 636.213 125.645 636.213 Q116.929 636.213 112.311 629.338 Q107.728 622.428 107.728 609.338 Q107.728 596.213 112.311 589.338 Q116.929 582.428 125.645 582.428 Z\" fill=\"#000000\" fill-rule=\"nonzero\" fill-opacity=\"1\" /><path clip-path=\"url(#clip180)\" d=\"M155.887 626.386 L163.214 626.386 L163.214 635.206 L155.887 635.206 L155.887 626.386 Z\" fill=\"#000000\" fill-rule=\"nonzero\" fill-opacity=\"1\" /><path clip-path=\"url(#clip180)\" d=\"M193.491 587.984 Q188.075 587.984 185.332 593.331 Q182.623 598.643 182.623 609.338 Q182.623 619.997 185.332 625.345 Q188.075 630.657 193.491 630.657 Q198.943 630.657 201.651 625.345 Q204.394 619.997 204.394 609.338 Q204.394 598.643 201.651 593.331 Q198.943 587.984 193.491 587.984 M193.491 582.428 Q202.207 582.428 206.79 589.338 Q211.408 596.213 211.408 609.338 Q211.408 622.428 206.79 629.338 Q202.207 636.213 193.491 636.213 Q184.776 636.213 180.158 629.338 Q175.575 622.428 175.575 609.338 Q175.575 596.213 180.158 589.338 Q184.776 582.428 193.491 582.428 Z\" fill=\"#000000\" fill-rule=\"nonzero\" fill-opacity=\"1\" /><path clip-path=\"url(#clip180)\" d=\"M127.138 327.084 Q121.721 327.084 118.978 332.432 Q116.27 337.744 116.27 348.439 Q116.27 359.098 118.978 364.445 Q121.721 369.758 127.138 369.758 Q132.589 369.758 135.297 364.445 Q138.04 359.098 138.04 348.439 Q138.04 337.744 135.297 332.432 Q132.589 327.084 127.138 327.084 M127.138 321.529 Q135.853 321.529 140.436 328.439 Q145.054 335.314 145.054 348.439 Q145.054 361.529 140.436 368.438 Q135.853 375.313 127.138 375.313 Q118.422 375.313 113.804 368.438 Q109.221 361.529 109.221 348.439 Q109.221 335.314 113.804 328.439 Q118.422 321.529 127.138 321.529 Z\" fill=\"#000000\" fill-rule=\"nonzero\" fill-opacity=\"1\" /><path clip-path=\"url(#clip180)\" d=\"M157.38 365.487 L164.707 365.487 L164.707 374.306 L157.38 374.306 L157.38 365.487 Z\" fill=\"#000000\" fill-rule=\"nonzero\" fill-opacity=\"1\" /><path clip-path=\"url(#clip180)\" d=\"M180.054 322.466 L207.589 322.466 L207.589 328.369 L186.478 328.369 L186.478 341.077 Q188.005 340.557 189.533 340.314 Q191.061 340.036 192.589 340.036 Q201.269 340.036 206.339 344.793 Q211.408 349.55 211.408 357.675 Q211.408 366.043 206.2 370.695 Q200.991 375.313 191.512 375.313 Q188.248 375.313 184.846 374.758 Q181.478 374.202 177.866 373.091 L177.866 366.043 Q180.991 367.744 184.325 368.577 Q187.658 369.411 191.373 369.411 Q197.38 369.411 200.887 366.251 Q204.394 363.091 204.394 357.675 Q204.394 352.258 200.887 349.098 Q197.38 345.939 191.373 345.939 Q188.561 345.939 185.748 346.564 Q182.971 347.189 180.054 348.508 L180.054 322.466 Z\" fill=\"#000000\" fill-rule=\"nonzero\" fill-opacity=\"1\" /><path clip-path=\"url(#clip180)\" d=\"M111.86 107.504 L123.318 107.504 L123.318 67.9561 L110.853 70.4561 L110.853 64.0672 L123.249 61.5672 L130.263 61.5672 L130.263 107.504 L141.721 107.504 L141.721 113.407 L111.86 113.407 L111.86 107.504 Z\" fill=\"#000000\" fill-rule=\"nonzero\" fill-opacity=\"1\" /><path clip-path=\"url(#clip180)\" d=\"M155.887 104.588 L163.214 104.588 L163.214 113.407 L155.887 113.407 L155.887 104.588 Z\" fill=\"#000000\" fill-rule=\"nonzero\" fill-opacity=\"1\" /><path clip-path=\"url(#clip180)\" d=\"M193.491 66.1853 Q188.075 66.1853 185.332 71.5324 Q182.623 76.8449 182.623 87.5393 Q182.623 98.199 185.332 103.546 Q188.075 108.859 193.491 108.859 Q198.943 108.859 201.651 103.546 Q204.394 98.199 204.394 87.5393 Q204.394 76.8449 201.651 71.5324 Q198.943 66.1853 193.491 66.1853 M193.491 60.6297 Q202.207 60.6297 206.79 67.5394 Q211.408 74.4144 211.408 87.5393 Q211.408 100.63 206.79 107.539 Q202.207 114.414 193.491 114.414 Q184.776 114.414 180.158 107.539 Q175.575 100.63 175.575 87.5393 Q175.575 74.4144 180.158 67.5394 Q184.776 60.6297 193.491 60.6297 Z\" fill=\"#000000\" fill-rule=\"nonzero\" fill-opacity=\"1\" /><polyline clip-path=\"url(#clip182)\" style=\"stroke:#009af9; stroke-linecap:round; stroke-linejoin:round; stroke-width:8; stroke-opacity:1; fill:none\" points=\"306.993,87.4872 327.056,95.8321 347.118,104.308 367.18,112.916 387.243,121.654 407.305,130.524 427.368,139.525 447.43,148.657 467.492,157.919 487.555,167.311 507.617,176.833 527.68,186.486 547.742,196.267 567.804,206.177 587.867,216.216 607.929,226.384 627.992,236.678 648.054,247.1 668.116,257.649 688.179,268.324 708.241,279.124 728.304,290.049 748.366,301.098 768.428,312.27 788.491,323.565 808.553,334.982 828.616,346.52 848.678,358.179 868.74,369.957 888.803,381.854 908.865,393.868 928.928,405.999 948.99,418.246 969.052,430.608 989.115,443.083 1009.18,455.672 1029.24,468.371 1049.3,481.182 1069.36,494.101 1089.43,507.129 1109.49,520.264 1129.55,533.505 1149.61,546.85 1169.68,560.299 1189.74,573.849 1209.8,587.5 1229.86,601.25 1249.93,615.098 1269.99,629.043 1290.05,643.083 1310.11,657.216 1330.18,671.442 1350.24,685.758 1370.3,700.163 1390.36,714.656 1410.43,729.235 1430.49,743.898 1450.55,758.645 1470.61,773.472 1490.67,788.379 1510.74,803.364 1530.8,818.425 1550.86,833.56 1570.92,848.769 1590.99,864.048 1611.05,879.396 1631.11,894.812 1651.17,910.294 1671.24,925.84 1691.3,941.447 1711.36,957.115 1731.42,972.841 1751.49,988.624 1771.55,1004.46 1791.61,1020.35 1811.67,1036.29 1831.74,1052.28 1851.8,1068.32 1871.86,1084.4 1891.92,1100.52 1911.99,1116.69 1932.05,1132.89 1952.11,1149.13 1972.17,1165.41 1992.23,1181.72 2012.3,1198.06 2032.36,1214.43 2052.42,1230.82 2072.48,1247.24 2092.55,1263.69 2112.61,1280.15 2132.67,1296.64 2152.73,1313.14 2172.8,1329.65 2192.86,1346.18 2212.92,1362.71 2232.98,1379.26 2253.05,1395.81 2273.11,1412.37 2293.17,1428.92 \"/>\n",
       "<polyline clip-path=\"url(#clip182)\" style=\"stroke:#e26f46; stroke-linecap:round; stroke-linejoin:round; stroke-width:8; stroke-opacity:1; fill:none\" points=\"306.993,609.286 327.056,609.286 347.118,609.286 367.18,609.286 387.243,609.286 407.305,609.286 427.368,609.286 447.43,609.286 467.492,609.286 487.555,609.286 507.617,609.286 527.68,609.286 547.742,609.286 567.804,609.286 587.867,609.286 607.929,609.286 627.992,609.286 648.054,609.286 668.116,609.286 688.179,609.286 708.241,609.286 728.304,609.286 748.366,609.286 768.428,609.286 788.491,609.286 808.553,609.286 828.616,609.286 848.678,609.286 868.74,609.286 888.803,609.286 908.865,609.286 928.928,609.286 948.99,609.286 969.052,609.286 989.115,609.286 1009.18,609.286 1029.24,609.286 1049.3,609.286 1069.36,609.286 1089.43,609.286 1109.49,609.286 1129.55,609.286 1149.61,609.286 1169.68,609.286 1189.74,609.286 1209.8,609.286 1229.86,609.286 1249.93,609.286 1269.99,609.286 1290.05,609.286 1310.11,609.286 1330.18,609.286 1350.24,609.286 1370.3,609.286 1390.36,609.286 1410.43,609.286 1430.49,609.286 1450.55,609.286 1470.61,609.286 1490.67,609.286 1510.74,609.286 1530.8,609.286 1550.86,609.286 1570.92,609.286 1590.99,609.286 1611.05,609.286 1631.11,609.286 1651.17,609.286 1671.24,609.286 1691.3,609.286 1711.36,609.286 1731.42,609.286 1751.49,609.286 1771.55,609.286 1791.61,609.286 1811.67,609.286 1831.74,609.286 1851.8,609.286 1871.86,609.286 1891.92,609.286 1911.99,609.286 1932.05,609.286 1952.11,609.286 1972.17,609.286 1992.23,609.286 2012.3,609.286 2032.36,609.286 2052.42,609.286 2072.48,609.286 2092.55,609.286 2112.61,609.286 2132.67,609.286 2152.73,609.286 2172.8,609.286 2192.86,609.286 2212.92,609.286 2232.98,609.286 2253.05,609.286 2273.11,609.286 2293.17,609.286 \"/>\n",
       "<circle clip-path=\"url(#clip182)\" cx=\"1241.52\" cy=\"609.286\" r=\"21.6\" fill=\"#3da44d\" fill-rule=\"evenodd\" fill-opacity=\"1\" stroke=\"#000000\" stroke-opacity=\"1\" stroke-width=\"3.2\"/>\n",
       "<path clip-path=\"url(#clip180)\" d=\"M1919.61 327.922 L2282.58 327.922 L2282.58 94.6416 L1919.61 94.6416  Z\" fill=\"#ffffff\" fill-rule=\"evenodd\" fill-opacity=\"1\"/>\n",
       "<polyline clip-path=\"url(#clip180)\" style=\"stroke:#000000; stroke-linecap:round; stroke-linejoin:round; stroke-width:4; stroke-opacity:1; fill:none\" points=\"1919.61,327.922 2282.58,327.922 2282.58,94.6416 1919.61,94.6416 1919.61,327.922 \"/>\n",
       "<polyline clip-path=\"url(#clip180)\" style=\"stroke:#009af9; stroke-linecap:round; stroke-linejoin:round; stroke-width:12; stroke-opacity:1; fill:none\" points=\"1943.01,172.402 2083.36,172.402 \"/>\n",
       "<path clip-path=\"url(#clip180)\" d=\"M2131.51 144.294 L2131.51 149.607 L2125.4 149.607 Q2121.96 149.607 2120.61 150.995 Q2119.29 152.384 2119.29 155.995 L2119.29 159.433 L2129.81 159.433 L2129.81 164.398 L2119.29 164.398 L2119.29 198.322 L2112.87 198.322 L2112.87 164.398 L2106.76 164.398 L2106.76 159.433 L2112.87 159.433 L2112.87 156.725 Q2112.87 150.232 2115.89 147.28 Q2118.91 144.294 2125.47 144.294 L2131.51 144.294 Z\" fill=\"#000000\" fill-rule=\"nonzero\" fill-opacity=\"1\" /><circle clip-path=\"url(#clip180)\" cx=\"2013.18\" cy=\"250.162\" r=\"31.9015\" fill=\"#3da44d\" fill-rule=\"evenodd\" fill-opacity=\"1\" stroke=\"#000000\" stroke-opacity=\"1\" stroke-width=\"4.72615\"/>\n",
       "<path clip-path=\"url(#clip180)\" d=\"M2131.34 251.776 Q2133.6 252.54 2135.71 255.04 Q2137.87 257.54 2140.02 261.915 L2147.14 276.082 L2139.6 276.082 L2132.97 262.783 Q2130.4 257.575 2127.97 255.873 Q2125.57 254.172 2121.41 254.172 L2113.77 254.172 L2113.77 276.082 L2106.76 276.082 L2106.76 224.242 L2122.59 224.242 Q2131.48 224.242 2135.85 227.957 Q2140.23 231.672 2140.23 239.172 Q2140.23 244.068 2137.94 247.297 Q2135.68 250.526 2131.34 251.776 M2113.77 230.005 L2113.77 248.408 L2122.59 248.408 Q2127.66 248.408 2130.23 246.082 Q2132.83 243.721 2132.83 239.172 Q2132.83 234.623 2130.23 232.332 Q2127.66 230.005 2122.59 230.005 L2113.77 230.005 Z\" fill=\"#000000\" fill-rule=\"nonzero\" fill-opacity=\"1\" /><path clip-path=\"url(#clip180)\" d=\"M2167.76 241.672 Q2162.62 241.672 2159.64 245.7 Q2156.65 249.693 2156.65 256.672 Q2156.65 263.651 2159.6 267.679 Q2162.59 271.672 2167.76 271.672 Q2172.87 271.672 2175.85 267.644 Q2178.84 263.616 2178.84 256.672 Q2178.84 249.762 2175.85 245.734 Q2172.87 241.672 2167.76 241.672 M2167.76 236.255 Q2176.1 236.255 2180.85 241.672 Q2185.61 247.089 2185.61 256.672 Q2185.61 266.22 2180.85 271.672 Q2176.1 277.088 2167.76 277.088 Q2159.39 277.088 2154.64 271.672 Q2149.91 266.22 2149.91 256.672 Q2149.91 247.089 2154.64 241.672 Q2159.39 236.255 2167.76 236.255 Z\" fill=\"#000000\" fill-rule=\"nonzero\" fill-opacity=\"1\" /><path clip-path=\"url(#clip180)\" d=\"M2211.27 241.672 Q2206.13 241.672 2203.14 245.7 Q2200.16 249.693 2200.16 256.672 Q2200.16 263.651 2203.11 267.679 Q2206.09 271.672 2211.27 271.672 Q2216.37 271.672 2219.36 267.644 Q2222.34 263.616 2222.34 256.672 Q2222.34 249.762 2219.36 245.734 Q2216.37 241.672 2211.27 241.672 M2211.27 236.255 Q2219.6 236.255 2224.36 241.672 Q2229.12 247.089 2229.12 256.672 Q2229.12 266.22 2224.36 271.672 Q2219.6 277.088 2211.27 277.088 Q2202.9 277.088 2198.14 271.672 Q2193.42 266.22 2193.42 256.672 Q2193.42 247.089 2198.14 241.672 Q2202.9 236.255 2211.27 236.255 Z\" fill=\"#000000\" fill-rule=\"nonzero\" fill-opacity=\"1\" /><path clip-path=\"url(#clip180)\" d=\"M2246.03 226.151 L2246.03 237.193 L2259.18 237.193 L2259.18 242.158 L2246.03 242.158 L2246.03 263.269 Q2246.03 268.026 2247.31 269.38 Q2248.63 270.734 2252.62 270.734 L2259.18 270.734 L2259.18 276.082 L2252.62 276.082 Q2245.23 276.082 2242.41 273.339 Q2239.6 270.561 2239.6 263.269 L2239.6 242.158 L2234.91 242.158 L2234.91 237.193 L2239.6 237.193 L2239.6 226.151 L2246.03 226.151 Z\" fill=\"#000000\" fill-rule=\"nonzero\" fill-opacity=\"1\" /></svg>\n"
      ],
      "text/html": [
       "<?xml version=\"1.0\" encoding=\"utf-8\"?>\n",
       "<svg xmlns=\"http://www.w3.org/2000/svg\" xmlns:xlink=\"http://www.w3.org/1999/xlink\" width=\"600\" height=\"400\" viewBox=\"0 0 2400 1600\">\n",
       "<defs>\n",
       "  <clipPath id=\"clip230\">\n",
       "    <rect x=\"0\" y=\"0\" width=\"2400\" height=\"1600\"/>\n",
       "  </clipPath>\n",
       "</defs>\n",
       "<path clip-path=\"url(#clip230)\" d=\"M0 1600 L2400 1600 L2400 0 L0 0  Z\" fill=\"#ffffff\" fill-rule=\"evenodd\" fill-opacity=\"1\"/>\n",
       "<defs>\n",
       "  <clipPath id=\"clip231\">\n",
       "    <rect x=\"480\" y=\"0\" width=\"1681\" height=\"1600\"/>\n",
       "  </clipPath>\n",
       "</defs>\n",
       "<path clip-path=\"url(#clip230)\" d=\"M247.408 1469.17 L2352.76 1469.17 L2352.76 47.2441 L247.408 47.2441  Z\" fill=\"#ffffff\" fill-rule=\"evenodd\" fill-opacity=\"1\"/>\n",
       "<defs>\n",
       "  <clipPath id=\"clip232\">\n",
       "    <rect x=\"247\" y=\"47\" width=\"2106\" height=\"1423\"/>\n",
       "  </clipPath>\n",
       "</defs>\n",
       "<polyline clip-path=\"url(#clip232)\" style=\"stroke:#000000; stroke-linecap:round; stroke-linejoin:round; stroke-width:2; stroke-opacity:0.1; fill:none\" points=\"306.993,1469.17 306.993,47.2441 \"/>\n",
       "<polyline clip-path=\"url(#clip232)\" style=\"stroke:#000000; stroke-linecap:round; stroke-linejoin:round; stroke-width:2; stroke-opacity:0.1; fill:none\" points=\"939.213,1469.17 939.213,47.2441 \"/>\n",
       "<polyline clip-path=\"url(#clip232)\" style=\"stroke:#000000; stroke-linecap:round; stroke-linejoin:round; stroke-width:2; stroke-opacity:0.1; fill:none\" points=\"1571.43,1469.17 1571.43,47.2441 \"/>\n",
       "<polyline clip-path=\"url(#clip232)\" style=\"stroke:#000000; stroke-linecap:round; stroke-linejoin:round; stroke-width:2; stroke-opacity:0.1; fill:none\" points=\"2203.65,1469.17 2203.65,47.2441 \"/>\n",
       "<polyline clip-path=\"url(#clip232)\" style=\"stroke:#000000; stroke-linecap:round; stroke-linejoin:round; stroke-width:2; stroke-opacity:0.1; fill:none\" points=\"247.408,1391.98 2352.76,1391.98 \"/>\n",
       "<polyline clip-path=\"url(#clip232)\" style=\"stroke:#000000; stroke-linecap:round; stroke-linejoin:round; stroke-width:2; stroke-opacity:0.1; fill:none\" points=\"247.408,1131.08 2352.76,1131.08 \"/>\n",
       "<polyline clip-path=\"url(#clip232)\" style=\"stroke:#000000; stroke-linecap:round; stroke-linejoin:round; stroke-width:2; stroke-opacity:0.1; fill:none\" points=\"247.408,870.185 2352.76,870.185 \"/>\n",
       "<polyline clip-path=\"url(#clip232)\" style=\"stroke:#000000; stroke-linecap:round; stroke-linejoin:round; stroke-width:2; stroke-opacity:0.1; fill:none\" points=\"247.408,609.286 2352.76,609.286 \"/>\n",
       "<polyline clip-path=\"url(#clip232)\" style=\"stroke:#000000; stroke-linecap:round; stroke-linejoin:round; stroke-width:2; stroke-opacity:0.1; fill:none\" points=\"247.408,348.386 2352.76,348.386 \"/>\n",
       "<polyline clip-path=\"url(#clip232)\" style=\"stroke:#000000; stroke-linecap:round; stroke-linejoin:round; stroke-width:2; stroke-opacity:0.1; fill:none\" points=\"247.408,87.4872 2352.76,87.4872 \"/>\n",
       "<polyline clip-path=\"url(#clip230)\" style=\"stroke:#000000; stroke-linecap:round; stroke-linejoin:round; stroke-width:4; stroke-opacity:1; fill:none\" points=\"247.408,1469.17 2352.76,1469.17 \"/>\n",
       "<polyline clip-path=\"url(#clip230)\" style=\"stroke:#000000; stroke-linecap:round; stroke-linejoin:round; stroke-width:4; stroke-opacity:1; fill:none\" points=\"306.993,1469.17 306.993,1450.27 \"/>\n",
       "<polyline clip-path=\"url(#clip230)\" style=\"stroke:#000000; stroke-linecap:round; stroke-linejoin:round; stroke-width:4; stroke-opacity:1; fill:none\" points=\"939.213,1469.17 939.213,1450.27 \"/>\n",
       "<polyline clip-path=\"url(#clip230)\" style=\"stroke:#000000; stroke-linecap:round; stroke-linejoin:round; stroke-width:4; stroke-opacity:1; fill:none\" points=\"1571.43,1469.17 1571.43,1450.27 \"/>\n",
       "<polyline clip-path=\"url(#clip230)\" style=\"stroke:#000000; stroke-linecap:round; stroke-linejoin:round; stroke-width:4; stroke-opacity:1; fill:none\" points=\"2203.65,1469.17 2203.65,1450.27 \"/>\n",
       "<path clip-path=\"url(#clip230)\" d=\"M273.07 1505.95 Q267.653 1505.95 264.91 1511.29 Q262.202 1516.61 262.202 1527.3 Q262.202 1537.96 264.91 1543.31 Q267.653 1548.62 273.07 1548.62 Q278.521 1548.62 281.23 1543.31 Q283.973 1537.96 283.973 1527.3 Q283.973 1516.61 281.23 1511.29 Q278.521 1505.95 273.07 1505.95 M273.07 1500.39 Q281.785 1500.39 286.368 1507.3 Q290.986 1514.18 290.986 1527.3 Q290.986 1540.39 286.368 1547.3 Q281.785 1554.17 273.07 1554.17 Q264.355 1554.17 259.737 1547.3 Q255.153 1540.39 255.153 1527.3 Q255.153 1514.18 259.737 1507.3 Q264.355 1500.39 273.07 1500.39 Z\" fill=\"#000000\" fill-rule=\"nonzero\" fill-opacity=\"1\" /><path clip-path=\"url(#clip230)\" d=\"M303.313 1544.35 L310.639 1544.35 L310.639 1553.17 L303.313 1553.17 L303.313 1544.35 Z\" fill=\"#000000\" fill-rule=\"nonzero\" fill-opacity=\"1\" /><path clip-path=\"url(#clip230)\" d=\"M340.917 1505.95 Q335.5 1505.95 332.757 1511.29 Q330.049 1516.61 330.049 1527.3 Q330.049 1537.96 332.757 1543.31 Q335.5 1548.62 340.917 1548.62 Q346.368 1548.62 349.076 1543.31 Q351.819 1537.96 351.819 1527.3 Q351.819 1516.61 349.076 1511.29 Q346.368 1505.95 340.917 1505.95 M340.917 1500.39 Q349.632 1500.39 354.215 1507.3 Q358.833 1514.18 358.833 1527.3 Q358.833 1540.39 354.215 1547.3 Q349.632 1554.17 340.917 1554.17 Q332.201 1554.17 327.583 1547.3 Q323 1540.39 323 1527.3 Q323 1514.18 327.583 1507.3 Q332.201 1500.39 340.917 1500.39 Z\" fill=\"#000000\" fill-rule=\"nonzero\" fill-opacity=\"1\" /><path clip-path=\"url(#clip230)\" d=\"M906.036 1505.95 Q900.62 1505.95 897.877 1511.29 Q895.168 1516.61 895.168 1527.3 Q895.168 1537.96 897.877 1543.31 Q900.62 1548.62 906.036 1548.62 Q911.488 1548.62 914.196 1543.31 Q916.939 1537.96 916.939 1527.3 Q916.939 1516.61 914.196 1511.29 Q911.488 1505.95 906.036 1505.95 M906.036 1500.39 Q914.751 1500.39 919.335 1507.3 Q923.953 1514.18 923.953 1527.3 Q923.953 1540.39 919.335 1547.3 Q914.751 1554.17 906.036 1554.17 Q897.321 1554.17 892.703 1547.3 Q888.12 1540.39 888.12 1527.3 Q888.12 1514.18 892.703 1507.3 Q897.321 1500.39 906.036 1500.39 Z\" fill=\"#000000\" fill-rule=\"nonzero\" fill-opacity=\"1\" /><path clip-path=\"url(#clip230)\" d=\"M936.279 1544.35 L943.605 1544.35 L943.605 1553.17 L936.279 1553.17 L936.279 1544.35 Z\" fill=\"#000000\" fill-rule=\"nonzero\" fill-opacity=\"1\" /><path clip-path=\"url(#clip230)\" d=\"M958.953 1501.33 L986.487 1501.33 L986.487 1507.23 L965.376 1507.23 L965.376 1519.94 Q966.904 1519.42 968.432 1519.18 Q969.959 1518.9 971.487 1518.9 Q980.168 1518.9 985.237 1523.65 Q990.307 1528.41 990.307 1536.54 Q990.307 1544.9 985.098 1549.56 Q979.89 1554.17 970.411 1554.17 Q967.147 1554.17 963.744 1553.62 Q960.376 1553.06 956.765 1551.95 L956.765 1544.9 Q959.89 1546.61 963.223 1547.44 Q966.557 1548.27 970.272 1548.27 Q976.279 1548.27 979.786 1545.11 Q983.293 1541.95 983.293 1536.54 Q983.293 1531.12 979.786 1527.96 Q976.279 1524.8 970.272 1524.8 Q967.46 1524.8 964.647 1525.42 Q961.869 1526.05 958.953 1527.37 L958.953 1501.33 Z\" fill=\"#000000\" fill-rule=\"nonzero\" fill-opacity=\"1\" /><path clip-path=\"url(#clip230)\" d=\"M1522.16 1547.27 L1533.62 1547.27 L1533.62 1507.72 L1521.16 1510.22 L1521.16 1503.83 L1533.55 1501.33 L1540.57 1501.33 L1540.57 1547.27 L1552.02 1547.27 L1552.02 1553.17 L1522.16 1553.17 L1522.16 1547.27 Z\" fill=\"#000000\" fill-rule=\"nonzero\" fill-opacity=\"1\" /><path clip-path=\"url(#clip230)\" d=\"M1566.19 1544.35 L1573.52 1544.35 L1573.52 1553.17 L1566.19 1553.17 L1566.19 1544.35 Z\" fill=\"#000000\" fill-rule=\"nonzero\" fill-opacity=\"1\" /><path clip-path=\"url(#clip230)\" d=\"M1603.79 1505.95 Q1598.38 1505.95 1595.63 1511.29 Q1592.93 1516.61 1592.93 1527.3 Q1592.93 1537.96 1595.63 1543.31 Q1598.38 1548.62 1603.79 1548.62 Q1609.25 1548.62 1611.95 1543.31 Q1614.7 1537.96 1614.7 1527.3 Q1614.7 1516.61 1611.95 1511.29 Q1609.25 1505.95 1603.79 1505.95 M1603.79 1500.39 Q1612.51 1500.39 1617.09 1507.3 Q1621.71 1514.18 1621.71 1527.3 Q1621.71 1540.39 1617.09 1547.3 Q1612.51 1554.17 1603.79 1554.17 Q1595.08 1554.17 1590.46 1547.3 Q1585.88 1540.39 1585.88 1527.3 Q1585.88 1514.18 1590.46 1507.3 Q1595.08 1500.39 1603.79 1500.39 Z\" fill=\"#000000\" fill-rule=\"nonzero\" fill-opacity=\"1\" /><path clip-path=\"url(#clip230)\" d=\"M2155.13 1547.27 L2166.59 1547.27 L2166.59 1507.72 L2154.12 1510.22 L2154.12 1503.83 L2166.52 1501.33 L2173.53 1501.33 L2173.53 1547.27 L2184.99 1547.27 L2184.99 1553.17 L2155.13 1553.17 L2155.13 1547.27 Z\" fill=\"#000000\" fill-rule=\"nonzero\" fill-opacity=\"1\" /><path clip-path=\"url(#clip230)\" d=\"M2199.16 1544.35 L2206.48 1544.35 L2206.48 1553.17 L2199.16 1553.17 L2199.16 1544.35 Z\" fill=\"#000000\" fill-rule=\"nonzero\" fill-opacity=\"1\" /><path clip-path=\"url(#clip230)\" d=\"M2221.83 1501.33 L2249.36 1501.33 L2249.36 1507.23 L2228.25 1507.23 L2228.25 1519.94 Q2229.78 1519.42 2231.31 1519.18 Q2232.84 1518.9 2234.36 1518.9 Q2243.05 1518.9 2248.11 1523.65 Q2253.18 1528.41 2253.18 1536.54 Q2253.18 1544.9 2247.98 1549.56 Q2242.77 1554.17 2233.29 1554.17 Q2230.02 1554.17 2226.62 1553.62 Q2223.25 1553.06 2219.64 1551.95 L2219.64 1544.9 Q2222.77 1546.61 2226.1 1547.44 Q2229.43 1548.27 2233.15 1548.27 Q2239.16 1548.27 2242.66 1545.11 Q2246.17 1541.95 2246.17 1536.54 Q2246.17 1531.12 2242.66 1527.96 Q2239.16 1524.8 2233.15 1524.8 Q2230.34 1524.8 2227.52 1525.42 Q2224.75 1526.05 2221.83 1527.37 L2221.83 1501.33 Z\" fill=\"#000000\" fill-rule=\"nonzero\" fill-opacity=\"1\" /><polyline clip-path=\"url(#clip230)\" style=\"stroke:#000000; stroke-linecap:round; stroke-linejoin:round; stroke-width:4; stroke-opacity:1; fill:none\" points=\"247.408,1469.17 247.408,47.2441 \"/>\n",
       "<polyline clip-path=\"url(#clip230)\" style=\"stroke:#000000; stroke-linecap:round; stroke-linejoin:round; stroke-width:4; stroke-opacity:1; fill:none\" points=\"247.408,1391.98 266.306,1391.98 \"/>\n",
       "<polyline clip-path=\"url(#clip230)\" style=\"stroke:#000000; stroke-linecap:round; stroke-linejoin:round; stroke-width:4; stroke-opacity:1; fill:none\" points=\"247.408,1131.08 266.306,1131.08 \"/>\n",
       "<polyline clip-path=\"url(#clip230)\" style=\"stroke:#000000; stroke-linecap:round; stroke-linejoin:round; stroke-width:4; stroke-opacity:1; fill:none\" points=\"247.408,870.185 266.306,870.185 \"/>\n",
       "<polyline clip-path=\"url(#clip230)\" style=\"stroke:#000000; stroke-linecap:round; stroke-linejoin:round; stroke-width:4; stroke-opacity:1; fill:none\" points=\"247.408,609.286 266.306,609.286 \"/>\n",
       "<polyline clip-path=\"url(#clip230)\" style=\"stroke:#000000; stroke-linecap:round; stroke-linejoin:round; stroke-width:4; stroke-opacity:1; fill:none\" points=\"247.408,348.386 266.306,348.386 \"/>\n",
       "<polyline clip-path=\"url(#clip230)\" style=\"stroke:#000000; stroke-linecap:round; stroke-linejoin:round; stroke-width:4; stroke-opacity:1; fill:none\" points=\"247.408,87.4872 266.306,87.4872 \"/>\n",
       "<path clip-path=\"url(#clip230)\" d=\"M52.4852 1392.66 L96.9988 1392.66 L96.9988 1398.56 L52.4852 1398.56 L52.4852 1392.66 Z\" fill=\"#000000\" fill-rule=\"nonzero\" fill-opacity=\"1\" /><path clip-path=\"url(#clip230)\" d=\"M113.353 1412 L124.811 1412 L124.811 1372.45 L112.346 1374.95 L112.346 1368.56 L124.742 1366.06 L131.756 1366.06 L131.756 1412 L143.214 1412 L143.214 1417.9 L113.353 1417.9 L113.353 1412 Z\" fill=\"#000000\" fill-rule=\"nonzero\" fill-opacity=\"1\" /><path clip-path=\"url(#clip230)\" d=\"M157.38 1409.08 L164.707 1409.08 L164.707 1417.9 L157.38 1417.9 L157.38 1409.08 Z\" fill=\"#000000\" fill-rule=\"nonzero\" fill-opacity=\"1\" /><path clip-path=\"url(#clip230)\" d=\"M180.054 1366.06 L207.589 1366.06 L207.589 1371.97 L186.478 1371.97 L186.478 1384.67 Q188.005 1384.15 189.533 1383.91 Q191.061 1383.63 192.589 1383.63 Q201.269 1383.63 206.339 1388.39 Q211.408 1393.15 211.408 1401.27 Q211.408 1409.64 206.2 1414.29 Q200.991 1418.91 191.512 1418.91 Q188.248 1418.91 184.846 1418.35 Q181.478 1417.8 177.866 1416.69 L177.866 1409.64 Q180.991 1411.34 184.325 1412.17 Q187.658 1413.01 191.373 1413.01 Q197.38 1413.01 200.887 1409.85 Q204.394 1406.69 204.394 1401.27 Q204.394 1395.85 200.887 1392.7 Q197.38 1389.54 191.373 1389.54 Q188.561 1389.54 185.748 1390.16 Q182.971 1390.79 180.054 1392.1 L180.054 1366.06 Z\" fill=\"#000000\" fill-rule=\"nonzero\" fill-opacity=\"1\" /><path clip-path=\"url(#clip230)\" d=\"M50.9921 1131.76 L95.5058 1131.76 L95.5058 1137.66 L50.9921 1137.66 L50.9921 1131.76 Z\" fill=\"#000000\" fill-rule=\"nonzero\" fill-opacity=\"1\" /><path clip-path=\"url(#clip230)\" d=\"M111.86 1151.1 L123.318 1151.1 L123.318 1111.55 L110.853 1114.05 L110.853 1107.66 L123.249 1105.16 L130.263 1105.16 L130.263 1151.1 L141.721 1151.1 L141.721 1157 L111.86 1157 L111.86 1151.1 Z\" fill=\"#000000\" fill-rule=\"nonzero\" fill-opacity=\"1\" /><path clip-path=\"url(#clip230)\" d=\"M155.887 1148.18 L163.214 1148.18 L163.214 1157 L155.887 1157 L155.887 1148.18 Z\" fill=\"#000000\" fill-rule=\"nonzero\" fill-opacity=\"1\" /><path clip-path=\"url(#clip230)\" d=\"M193.491 1109.78 Q188.075 1109.78 185.332 1115.13 Q182.623 1120.44 182.623 1131.14 Q182.623 1141.8 185.332 1147.14 Q188.075 1152.46 193.491 1152.46 Q198.943 1152.46 201.651 1147.14 Q204.394 1141.8 204.394 1131.14 Q204.394 1120.44 201.651 1115.13 Q198.943 1109.78 193.491 1109.78 M193.491 1104.23 Q202.207 1104.23 206.79 1111.14 Q211.408 1118.01 211.408 1131.14 Q211.408 1144.23 206.79 1151.14 Q202.207 1158.01 193.491 1158.01 Q184.776 1158.01 180.158 1151.14 Q175.575 1144.23 175.575 1131.14 Q175.575 1118.01 180.158 1111.14 Q184.776 1104.23 193.491 1104.23 Z\" fill=\"#000000\" fill-rule=\"nonzero\" fill-opacity=\"1\" /><path clip-path=\"url(#clip230)\" d=\"M52.4852 870.862 L96.9988 870.862 L96.9988 876.765 L52.4852 876.765 L52.4852 870.862 Z\" fill=\"#000000\" fill-rule=\"nonzero\" fill-opacity=\"1\" /><path clip-path=\"url(#clip230)\" d=\"M127.138 848.883 Q121.721 848.883 118.978 854.23 Q116.27 859.543 116.27 870.237 Q116.27 880.897 118.978 886.244 Q121.721 891.556 127.138 891.556 Q132.589 891.556 135.297 886.244 Q138.04 880.897 138.04 870.237 Q138.04 859.543 135.297 854.23 Q132.589 848.883 127.138 848.883 M127.138 843.327 Q135.853 843.327 140.436 850.237 Q145.054 857.112 145.054 870.237 Q145.054 883.327 140.436 890.237 Q135.853 897.112 127.138 897.112 Q118.422 897.112 113.804 890.237 Q109.221 883.327 109.221 870.237 Q109.221 857.112 113.804 850.237 Q118.422 843.327 127.138 843.327 Z\" fill=\"#000000\" fill-rule=\"nonzero\" fill-opacity=\"1\" /><path clip-path=\"url(#clip230)\" d=\"M157.38 887.285 L164.707 887.285 L164.707 896.105 L157.38 896.105 L157.38 887.285 Z\" fill=\"#000000\" fill-rule=\"nonzero\" fill-opacity=\"1\" /><path clip-path=\"url(#clip230)\" d=\"M180.054 844.265 L207.589 844.265 L207.589 850.168 L186.478 850.168 L186.478 862.876 Q188.005 862.355 189.533 862.112 Q191.061 861.834 192.589 861.834 Q201.269 861.834 206.339 866.591 Q211.408 871.348 211.408 879.473 Q211.408 887.841 206.2 892.494 Q200.991 897.112 191.512 897.112 Q188.248 897.112 184.846 896.556 Q181.478 896.001 177.866 894.89 L177.866 887.841 Q180.991 889.542 184.325 890.376 Q187.658 891.209 191.373 891.209 Q197.38 891.209 200.887 888.049 Q204.394 884.89 204.394 879.473 Q204.394 874.056 200.887 870.897 Q197.38 867.737 191.373 867.737 Q188.561 867.737 185.748 868.362 Q182.971 868.987 180.054 870.306 L180.054 844.265 Z\" fill=\"#000000\" fill-rule=\"nonzero\" fill-opacity=\"1\" /><path clip-path=\"url(#clip230)\" d=\"M125.645 587.984 Q120.228 587.984 117.485 593.331 Q114.777 598.643 114.777 609.338 Q114.777 619.997 117.485 625.345 Q120.228 630.657 125.645 630.657 Q131.096 630.657 133.804 625.345 Q136.547 619.997 136.547 609.338 Q136.547 598.643 133.804 593.331 Q131.096 587.984 125.645 587.984 M125.645 582.428 Q134.36 582.428 138.943 589.338 Q143.561 596.213 143.561 609.338 Q143.561 622.428 138.943 629.338 Q134.36 636.213 125.645 636.213 Q116.929 636.213 112.311 629.338 Q107.728 622.428 107.728 609.338 Q107.728 596.213 112.311 589.338 Q116.929 582.428 125.645 582.428 Z\" fill=\"#000000\" fill-rule=\"nonzero\" fill-opacity=\"1\" /><path clip-path=\"url(#clip230)\" d=\"M155.887 626.386 L163.214 626.386 L163.214 635.206 L155.887 635.206 L155.887 626.386 Z\" fill=\"#000000\" fill-rule=\"nonzero\" fill-opacity=\"1\" /><path clip-path=\"url(#clip230)\" d=\"M193.491 587.984 Q188.075 587.984 185.332 593.331 Q182.623 598.643 182.623 609.338 Q182.623 619.997 185.332 625.345 Q188.075 630.657 193.491 630.657 Q198.943 630.657 201.651 625.345 Q204.394 619.997 204.394 609.338 Q204.394 598.643 201.651 593.331 Q198.943 587.984 193.491 587.984 M193.491 582.428 Q202.207 582.428 206.79 589.338 Q211.408 596.213 211.408 609.338 Q211.408 622.428 206.79 629.338 Q202.207 636.213 193.491 636.213 Q184.776 636.213 180.158 629.338 Q175.575 622.428 175.575 609.338 Q175.575 596.213 180.158 589.338 Q184.776 582.428 193.491 582.428 Z\" fill=\"#000000\" fill-rule=\"nonzero\" fill-opacity=\"1\" /><path clip-path=\"url(#clip230)\" d=\"M127.138 327.084 Q121.721 327.084 118.978 332.432 Q116.27 337.744 116.27 348.439 Q116.27 359.098 118.978 364.445 Q121.721 369.758 127.138 369.758 Q132.589 369.758 135.297 364.445 Q138.04 359.098 138.04 348.439 Q138.04 337.744 135.297 332.432 Q132.589 327.084 127.138 327.084 M127.138 321.529 Q135.853 321.529 140.436 328.439 Q145.054 335.314 145.054 348.439 Q145.054 361.529 140.436 368.438 Q135.853 375.313 127.138 375.313 Q118.422 375.313 113.804 368.438 Q109.221 361.529 109.221 348.439 Q109.221 335.314 113.804 328.439 Q118.422 321.529 127.138 321.529 Z\" fill=\"#000000\" fill-rule=\"nonzero\" fill-opacity=\"1\" /><path clip-path=\"url(#clip230)\" d=\"M157.38 365.487 L164.707 365.487 L164.707 374.306 L157.38 374.306 L157.38 365.487 Z\" fill=\"#000000\" fill-rule=\"nonzero\" fill-opacity=\"1\" /><path clip-path=\"url(#clip230)\" d=\"M180.054 322.466 L207.589 322.466 L207.589 328.369 L186.478 328.369 L186.478 341.077 Q188.005 340.557 189.533 340.314 Q191.061 340.036 192.589 340.036 Q201.269 340.036 206.339 344.793 Q211.408 349.55 211.408 357.675 Q211.408 366.043 206.2 370.695 Q200.991 375.313 191.512 375.313 Q188.248 375.313 184.846 374.758 Q181.478 374.202 177.866 373.091 L177.866 366.043 Q180.991 367.744 184.325 368.577 Q187.658 369.411 191.373 369.411 Q197.38 369.411 200.887 366.251 Q204.394 363.091 204.394 357.675 Q204.394 352.258 200.887 349.098 Q197.38 345.939 191.373 345.939 Q188.561 345.939 185.748 346.564 Q182.971 347.189 180.054 348.508 L180.054 322.466 Z\" fill=\"#000000\" fill-rule=\"nonzero\" fill-opacity=\"1\" /><path clip-path=\"url(#clip230)\" d=\"M111.86 107.504 L123.318 107.504 L123.318 67.9561 L110.853 70.4561 L110.853 64.0672 L123.249 61.5672 L130.263 61.5672 L130.263 107.504 L141.721 107.504 L141.721 113.407 L111.86 113.407 L111.86 107.504 Z\" fill=\"#000000\" fill-rule=\"nonzero\" fill-opacity=\"1\" /><path clip-path=\"url(#clip230)\" d=\"M155.887 104.588 L163.214 104.588 L163.214 113.407 L155.887 113.407 L155.887 104.588 Z\" fill=\"#000000\" fill-rule=\"nonzero\" fill-opacity=\"1\" /><path clip-path=\"url(#clip230)\" d=\"M193.491 66.1853 Q188.075 66.1853 185.332 71.5324 Q182.623 76.8449 182.623 87.5393 Q182.623 98.199 185.332 103.546 Q188.075 108.859 193.491 108.859 Q198.943 108.859 201.651 103.546 Q204.394 98.199 204.394 87.5393 Q204.394 76.8449 201.651 71.5324 Q198.943 66.1853 193.491 66.1853 M193.491 60.6297 Q202.207 60.6297 206.79 67.5394 Q211.408 74.4144 211.408 87.5393 Q211.408 100.63 206.79 107.539 Q202.207 114.414 193.491 114.414 Q184.776 114.414 180.158 107.539 Q175.575 100.63 175.575 87.5393 Q175.575 74.4144 180.158 67.5394 Q184.776 60.6297 193.491 60.6297 Z\" fill=\"#000000\" fill-rule=\"nonzero\" fill-opacity=\"1\" /><polyline clip-path=\"url(#clip232)\" style=\"stroke:#009af9; stroke-linecap:round; stroke-linejoin:round; stroke-width:8; stroke-opacity:1; fill:none\" points=\"306.993,87.4872 327.056,95.8321 347.118,104.308 367.18,112.916 387.243,121.654 407.305,130.524 427.368,139.525 447.43,148.657 467.492,157.919 487.555,167.311 507.617,176.833 527.68,186.486 547.742,196.267 567.804,206.177 587.867,216.216 607.929,226.384 627.992,236.678 648.054,247.1 668.116,257.649 688.179,268.324 708.241,279.124 728.304,290.049 748.366,301.098 768.428,312.27 788.491,323.565 808.553,334.982 828.616,346.52 848.678,358.179 868.74,369.957 888.803,381.854 908.865,393.868 928.928,405.999 948.99,418.246 969.052,430.608 989.115,443.083 1009.18,455.672 1029.24,468.371 1049.3,481.182 1069.36,494.101 1089.43,507.129 1109.49,520.264 1129.55,533.505 1149.61,546.85 1169.68,560.299 1189.74,573.849 1209.8,587.5 1229.86,601.25 1249.93,615.098 1269.99,629.043 1290.05,643.083 1310.11,657.216 1330.18,671.442 1350.24,685.758 1370.3,700.163 1390.36,714.656 1410.43,729.235 1430.49,743.898 1450.55,758.645 1470.61,773.472 1490.67,788.379 1510.74,803.364 1530.8,818.425 1550.86,833.56 1570.92,848.769 1590.99,864.048 1611.05,879.396 1631.11,894.812 1651.17,910.294 1671.24,925.84 1691.3,941.447 1711.36,957.115 1731.42,972.841 1751.49,988.624 1771.55,1004.46 1791.61,1020.35 1811.67,1036.29 1831.74,1052.28 1851.8,1068.32 1871.86,1084.4 1891.92,1100.52 1911.99,1116.69 1932.05,1132.89 1952.11,1149.13 1972.17,1165.41 1992.23,1181.72 2012.3,1198.06 2032.36,1214.43 2052.42,1230.82 2072.48,1247.24 2092.55,1263.69 2112.61,1280.15 2132.67,1296.64 2152.73,1313.14 2172.8,1329.65 2192.86,1346.18 2212.92,1362.71 2232.98,1379.26 2253.05,1395.81 2273.11,1412.37 2293.17,1428.92 \"/>\n",
       "<polyline clip-path=\"url(#clip232)\" style=\"stroke:#e26f46; stroke-linecap:round; stroke-linejoin:round; stroke-width:8; stroke-opacity:1; fill:none\" points=\"306.993,609.286 327.056,609.286 347.118,609.286 367.18,609.286 387.243,609.286 407.305,609.286 427.368,609.286 447.43,609.286 467.492,609.286 487.555,609.286 507.617,609.286 527.68,609.286 547.742,609.286 567.804,609.286 587.867,609.286 607.929,609.286 627.992,609.286 648.054,609.286 668.116,609.286 688.179,609.286 708.241,609.286 728.304,609.286 748.366,609.286 768.428,609.286 788.491,609.286 808.553,609.286 828.616,609.286 848.678,609.286 868.74,609.286 888.803,609.286 908.865,609.286 928.928,609.286 948.99,609.286 969.052,609.286 989.115,609.286 1009.18,609.286 1029.24,609.286 1049.3,609.286 1069.36,609.286 1089.43,609.286 1109.49,609.286 1129.55,609.286 1149.61,609.286 1169.68,609.286 1189.74,609.286 1209.8,609.286 1229.86,609.286 1249.93,609.286 1269.99,609.286 1290.05,609.286 1310.11,609.286 1330.18,609.286 1350.24,609.286 1370.3,609.286 1390.36,609.286 1410.43,609.286 1430.49,609.286 1450.55,609.286 1470.61,609.286 1490.67,609.286 1510.74,609.286 1530.8,609.286 1550.86,609.286 1570.92,609.286 1590.99,609.286 1611.05,609.286 1631.11,609.286 1651.17,609.286 1671.24,609.286 1691.3,609.286 1711.36,609.286 1731.42,609.286 1751.49,609.286 1771.55,609.286 1791.61,609.286 1811.67,609.286 1831.74,609.286 1851.8,609.286 1871.86,609.286 1891.92,609.286 1911.99,609.286 1932.05,609.286 1952.11,609.286 1972.17,609.286 1992.23,609.286 2012.3,609.286 2032.36,609.286 2052.42,609.286 2072.48,609.286 2092.55,609.286 2112.61,609.286 2132.67,609.286 2152.73,609.286 2172.8,609.286 2192.86,609.286 2212.92,609.286 2232.98,609.286 2253.05,609.286 2273.11,609.286 2293.17,609.286 \"/>\n",
       "<circle clip-path=\"url(#clip232)\" cx=\"1241.52\" cy=\"609.286\" r=\"21.6\" fill=\"#3da44d\" fill-rule=\"evenodd\" fill-opacity=\"1\" stroke=\"#000000\" stroke-opacity=\"1\" stroke-width=\"3.2\"/>\n",
       "<path clip-path=\"url(#clip230)\" d=\"M1919.61 327.922 L2282.58 327.922 L2282.58 94.6416 L1919.61 94.6416  Z\" fill=\"#ffffff\" fill-rule=\"evenodd\" fill-opacity=\"1\"/>\n",
       "<polyline clip-path=\"url(#clip230)\" style=\"stroke:#000000; stroke-linecap:round; stroke-linejoin:round; stroke-width:4; stroke-opacity:1; fill:none\" points=\"1919.61,327.922 2282.58,327.922 2282.58,94.6416 1919.61,94.6416 1919.61,327.922 \"/>\n",
       "<polyline clip-path=\"url(#clip230)\" style=\"stroke:#009af9; stroke-linecap:round; stroke-linejoin:round; stroke-width:12; stroke-opacity:1; fill:none\" points=\"1943.01,172.402 2083.36,172.402 \"/>\n",
       "<path clip-path=\"url(#clip230)\" d=\"M2131.51 144.294 L2131.51 149.607 L2125.4 149.607 Q2121.96 149.607 2120.61 150.995 Q2119.29 152.384 2119.29 155.995 L2119.29 159.433 L2129.81 159.433 L2129.81 164.398 L2119.29 164.398 L2119.29 198.322 L2112.87 198.322 L2112.87 164.398 L2106.76 164.398 L2106.76 159.433 L2112.87 159.433 L2112.87 156.725 Q2112.87 150.232 2115.89 147.28 Q2118.91 144.294 2125.47 144.294 L2131.51 144.294 Z\" fill=\"#000000\" fill-rule=\"nonzero\" fill-opacity=\"1\" /><circle clip-path=\"url(#clip230)\" cx=\"2013.18\" cy=\"250.162\" r=\"31.9015\" fill=\"#3da44d\" fill-rule=\"evenodd\" fill-opacity=\"1\" stroke=\"#000000\" stroke-opacity=\"1\" stroke-width=\"4.72615\"/>\n",
       "<path clip-path=\"url(#clip230)\" d=\"M2131.34 251.776 Q2133.6 252.54 2135.71 255.04 Q2137.87 257.54 2140.02 261.915 L2147.14 276.082 L2139.6 276.082 L2132.97 262.783 Q2130.4 257.575 2127.97 255.873 Q2125.57 254.172 2121.41 254.172 L2113.77 254.172 L2113.77 276.082 L2106.76 276.082 L2106.76 224.242 L2122.59 224.242 Q2131.48 224.242 2135.85 227.957 Q2140.23 231.672 2140.23 239.172 Q2140.23 244.068 2137.94 247.297 Q2135.68 250.526 2131.34 251.776 M2113.77 230.005 L2113.77 248.408 L2122.59 248.408 Q2127.66 248.408 2130.23 246.082 Q2132.83 243.721 2132.83 239.172 Q2132.83 234.623 2130.23 232.332 Q2127.66 230.005 2122.59 230.005 L2113.77 230.005 Z\" fill=\"#000000\" fill-rule=\"nonzero\" fill-opacity=\"1\" /><path clip-path=\"url(#clip230)\" d=\"M2167.76 241.672 Q2162.62 241.672 2159.64 245.7 Q2156.65 249.693 2156.65 256.672 Q2156.65 263.651 2159.6 267.679 Q2162.59 271.672 2167.76 271.672 Q2172.87 271.672 2175.85 267.644 Q2178.84 263.616 2178.84 256.672 Q2178.84 249.762 2175.85 245.734 Q2172.87 241.672 2167.76 241.672 M2167.76 236.255 Q2176.1 236.255 2180.85 241.672 Q2185.61 247.089 2185.61 256.672 Q2185.61 266.22 2180.85 271.672 Q2176.1 277.088 2167.76 277.088 Q2159.39 277.088 2154.64 271.672 Q2149.91 266.22 2149.91 256.672 Q2149.91 247.089 2154.64 241.672 Q2159.39 236.255 2167.76 236.255 Z\" fill=\"#000000\" fill-rule=\"nonzero\" fill-opacity=\"1\" /><path clip-path=\"url(#clip230)\" d=\"M2211.27 241.672 Q2206.13 241.672 2203.14 245.7 Q2200.16 249.693 2200.16 256.672 Q2200.16 263.651 2203.11 267.679 Q2206.09 271.672 2211.27 271.672 Q2216.37 271.672 2219.36 267.644 Q2222.34 263.616 2222.34 256.672 Q2222.34 249.762 2219.36 245.734 Q2216.37 241.672 2211.27 241.672 M2211.27 236.255 Q2219.6 236.255 2224.36 241.672 Q2229.12 247.089 2229.12 256.672 Q2229.12 266.22 2224.36 271.672 Q2219.6 277.088 2211.27 277.088 Q2202.9 277.088 2198.14 271.672 Q2193.42 266.22 2193.42 256.672 Q2193.42 247.089 2198.14 241.672 Q2202.9 236.255 2211.27 236.255 Z\" fill=\"#000000\" fill-rule=\"nonzero\" fill-opacity=\"1\" /><path clip-path=\"url(#clip230)\" d=\"M2246.03 226.151 L2246.03 237.193 L2259.18 237.193 L2259.18 242.158 L2246.03 242.158 L2246.03 263.269 Q2246.03 268.026 2247.31 269.38 Q2248.63 270.734 2252.62 270.734 L2259.18 270.734 L2259.18 276.082 L2252.62 276.082 Q2245.23 276.082 2242.41 273.339 Q2239.6 270.561 2239.6 263.269 L2239.6 242.158 L2234.91 242.158 L2234.91 237.193 L2239.6 237.193 L2239.6 226.151 L2246.03 226.151 Z\" fill=\"#000000\" fill-rule=\"nonzero\" fill-opacity=\"1\" /></svg>\n"
      ]
     },
     "metadata": {},
     "output_type": "display_data"
    }
   ],
   "source": [
    "xx = LinRange(0,π/2,100);\n",
    "plot(xx, f.(xx), label=\"f\")\n",
    "plot!(xx, 0*xx, label=\"\")\n",
    "scatter!([p], [f(p)],label=\"Root\")"
   ]
  },
  {
   "cell_type": "markdown",
   "id": "fc32b045",
   "metadata": {},
   "source": [
    "# Automatic Differentiation"
   ]
  },
  {
   "cell_type": "markdown",
   "id": "65035e9a",
   "metadata": {},
   "source": [
    "Automatic differentiation often lets us avoid having to compute a derivative by hand, before running Newton's method."
   ]
  },
  {
   "cell_type": "code",
<<<<<<< HEAD
   "execution_count": 14,
=======
   "execution_count": 13,
>>>>>>> 654fe18e46 (How can we pull if we staged the changes?)
   "id": "5aa10a19-9018-420a-b38e-f8949c2807d2",
   "metadata": {},
   "outputs": [
    {
     "ename": "ArgumentError",
     "evalue": "ArgumentError: Package ForwardDiff not found in current path.\n- Run `import Pkg; Pkg.add(\"ForwardDiff\")` to install the ForwardDiff package.",
     "output_type": "error",
     "traceback": [
      "ArgumentError: Package ForwardDiff not found in current path.\n",
      "- Run `import Pkg; Pkg.add(\"ForwardDiff\")` to install the ForwardDiff package.\n",
      "\n",
      "Stacktrace:\n",
      "  [1] macro expansion\n",
      "    @ ./loading.jl:1163 [inlined]\n",
      "  [2] macro expansion\n",
      "    @ ./lock.jl:223 [inlined]\n",
      "  [3] require(into::Module, mod::Symbol)\n",
      "    @ Base ./loading.jl:1144\n",
      "  [4] eval\n",
      "    @ ./boot.jl:368 [inlined]\n",
      "  [5] include_string(mapexpr::typeof(REPL.softscope), mod::Module, code::String, filename::String)\n",
      "    @ Base ./loading.jl:1428\n",
      "  [6] #invokelatest#2\n",
      "    @ ./essentials.jl:729 [inlined]\n",
      "  [7] invokelatest\n",
      "    @ ./essentials.jl:726 [inlined]\n",
      "  [8] (::VSCodeServer.var\"#217#218\"{VSCodeServer.NotebookRunCellArguments, String})()\n",
      "    @ VSCodeServer ~/.vscode-server/extensions/julialang.language-julia-1.124.2/scripts/packages/VSCodeServer/src/serve_notebook.jl:24\n",
      "  [9] withpath(f::VSCodeServer.var\"#217#218\"{VSCodeServer.NotebookRunCellArguments, String}, path::String)\n",
      "    @ VSCodeServer ~/.vscode-server/extensions/julialang.language-julia-1.124.2/scripts/packages/VSCodeServer/src/repl.jl:276\n",
      " [10] notebook_runcell_request(conn::VSCodeServer.JSONRPC.JSONRPCEndpoint{Base.PipeEndpoint, Base.PipeEndpoint}, params::VSCodeServer.NotebookRunCellArguments)\n",
      "    @ VSCodeServer ~/.vscode-server/extensions/julialang.language-julia-1.124.2/scripts/packages/VSCodeServer/src/serve_notebook.jl:13\n",
      " [11] dispatch_msg(x::VSCodeServer.JSONRPC.JSONRPCEndpoint{Base.PipeEndpoint, Base.PipeEndpoint}, dispatcher::VSCodeServer.JSONRPC.MsgDispatcher, msg::Dict{String, Any})\n",
      "    @ VSCodeServer.JSONRPC ~/.vscode-server/extensions/julialang.language-julia-1.124.2/scripts/packages/JSONRPC/src/typed.jl:67\n",
      " [12] serve_notebook(pipename::String, debugger_pipename::String, outputchannel_logger::Base.CoreLogging.SimpleLogger; error_handler::var\"#5#10\"{String})\n",
      "    @ VSCodeServer ~/.vscode-server/extensions/julialang.language-julia-1.124.2/scripts/packages/VSCodeServer/src/serve_notebook.jl:147\n",
      " [13] top-level scope\n",
      "    @ ~/.vscode-server/extensions/julialang.language-julia-1.124.2/scripts/notebook/notebook.jl:35"
     ]
    }
   ],
   "source": [
    "using ForwardDiff # automatic differentiation package"
   ]
  },
  {
   "cell_type": "markdown",
   "id": "e47619e7",
   "metadata": {},
   "source": [
    "Automatically differentiate `f` at `x`:"
   ]
  },
  {
   "cell_type": "code",
   "execution_count": 14,
   "id": "3775bea6-03fd-4b60-957f-3fdf8bf2e99a",
   "metadata": {},
   "outputs": [
    {
     "data": {
      "text/plain": [
       "#21 (generic function with 1 method)"
      ]
     },
     "metadata": {},
     "output_type": "display_data"
    }
   ],
   "source": [
    "df_auto = x-> ForwardDiff.derivative(f,x)"
   ]
  },
  {
   "cell_type": "code",
   "execution_count": 15,
   "id": "9fbb458f-a91f-4f4e-bde1-4f5b48c98d81",
   "metadata": {},
   "outputs": [
    {
     "ename": "ErrorException",
     "evalue": "syntax: invalid interpolation syntax: \"$ \"",
     "output_type": "error",
     "traceback": [
      "syntax: invalid interpolation syntax: \"$ \"\n",
      "\n",
      "Stacktrace:\n",
      " [1] top-level scope\n",
      "   @ /mnt/d/Study Materials/Drexel_Study/2024_Fall_Term/MATH 300/Math_300_2024/notebooks/jl_notebook_cell_df34fa98e69747e1a8f8a730347b8e2f_X25sdnNjb2RlLXJlbW90ZQ==.jl:2"
     ]
    }
   ],
   "source": [
    "xx = LinRange(0,π/2,100);\n",
    "plot(xx, df.(xx), label=\"f' by hand\")\n",
    "plot!(xx, df_auto.(xx), label=\"f' by AD\")\n",
    "\n"
   ]
  },
  {
   "cell_type": "markdown",
   "id": "d81469b6",
   "metadata": {},
   "source": [
    "Apply Newton with a derivative created through automatic differentiation"
   ]
  },
  {
   "cell_type": "code",
   "execution_count": 16,
   "id": "08ecfe85-903d-46c4-9943-b0efab917a19",
   "metadata": {},
   "outputs": [
    {
     "ename": "UndefVarError",
     "evalue": "UndefVarError: ForwardDiff not defined",
     "output_type": "error",
     "traceback": [
      "UndefVarError: ForwardDiff not defined\n",
      "\n",
      "Stacktrace:\n",
      " [1] (::var\"#21#22\")(x::Int64)\n",
      "   @ Main /mnt/d/Study Materials/Drexel_Study/2024_Fall_Term/MATH 300/Math_300_2024/notebooks/jl_notebook_cell_df34fa98e69747e1a8f8a730347b8e2f_X24sdnNjb2RlLXJlbW90ZQ==.jl:1\n",
      " [2] newton(f::var\"#17#18\", df::var\"#21#22\", p0::Int64, n_max::Int64, rel_tol::Float64; verbose::Bool)\n",
      "   @ Main /mnt/d/Study Materials/Drexel_Study/2024_Fall_Term/MATH 300/Math_300_2024/notebooks/jl_notebook_cell_df34fa98e69747e1a8f8a730347b8e2f_W3sdnNjb2RlLXJlbW90ZQ==.jl:9\n",
      " [3] newton(f::Function, df::Function, p0::Int64, n_max::Int64, rel_tol::Float64)\n",
      "   @ Main /mnt/d/Study Materials/Drexel_Study/2024_Fall_Term/MATH 300/Math_300_2024/notebooks/jl_notebook_cell_df34fa98e69747e1a8f8a730347b8e2f_W3sdnNjb2RlLXJlbW90ZQ==.jl:1\n",
      " [4] top-level scope\n",
      "   @ /mnt/d/Study Materials/Drexel_Study/2024_Fall_Term/MATH 300/Math_300_2024/notebooks/jl_notebook_cell_df34fa98e69747e1a8f8a730347b8e2f_X26sdnNjb2RlLXJlbW90ZQ==.jl:1"
     ]
    }
   ],
   "source": [
    "p = newton(f, df_auto, p0, n_max, rel_tol);"
   ]
  }
 ],
 "metadata": {
  "kernelspec": {
   "display_name": "Julia 1.10.5",
   "language": "julia",
   "name": "julia-1.10"
  },
  "language_info": {
   "file_extension": ".jl",
   "mimetype": "application/julia",
   "name": "julia",
   "version": "1.10.5"
  }
 },
 "nbformat": 4,
 "nbformat_minor": 5
}
